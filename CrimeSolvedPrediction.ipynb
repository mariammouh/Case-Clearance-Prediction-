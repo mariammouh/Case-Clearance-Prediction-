{
 "cells": [
  {
   "cell_type": "markdown",
   "metadata": {
    "id": "FHUrBZV5vek1"
   },
   "source": [
    "# Crime Case Resolution Prediction Model\n",
    "\n",
    "\n",
    "This machine learning project predicts the likelihood of a crime case being solved based on Los Angeles Police Department data. The model classifies cases into three categories: **Unsolved**, **Solved by Arrest**, and **Solved Exceptionally**.\n",
    "\n",
    "## How to Run This Notebook\n",
    "\n",
    "1. **Run All Cells Sequentially**: Click Runtime → Run all\n",
    "2. **Or Run Section by Section**:\n",
    "   - Start with Installation from the requirements.txt file then the Imports\"\n",
    "   - Then \"Data Loading\"\n",
    "   - Continue through each section in order\n",
    "3. **Ensure Dependencies**: All required packages are installed in the first cell"
   ]
  },
  {
   "cell_type": "markdown",
   "metadata": {
    "id": "vsfIm__Qvek3"
   },
   "source": [
    "# Installation"
   ]
  },
  {
   "cell_type": "code",
   "execution_count": 10,
   "metadata": {
    "colab": {
     "base_uri": "https://localhost:8080/"
    },
    "id": "glxesbHMvek4",
    "outputId": "c412b8fd-8588-457e-c383-4bc49adbb564"
   },
   "outputs": [
    {
     "name": "stdout",
     "output_type": "stream",
     "text": [
      "Requirement already satisfied: scikit-learn in c:\\users\\lenovo\\anaconda3\\lib\\site-packages (from -r requirements.txt (line 2)) (1.3.2)\n",
      "Requirement already satisfied: xgboost in c:\\users\\lenovo\\anaconda3\\lib\\site-packages (from -r requirements.txt (line 3)) (3.0.5)\n",
      "Requirement already satisfied: pandas in c:\\users\\lenovo\\anaconda3\\lib\\site-packages (from -r requirements.txt (line 4)) (2.1.4)\n",
      "Requirement already satisfied: numpy in c:\\users\\lenovo\\anaconda3\\lib\\site-packages (from -r requirements.txt (line 5)) (1.26.4)\n",
      "Requirement already satisfied: matplotlib in c:\\users\\lenovo\\anaconda3\\lib\\site-packages (from -r requirements.txt (line 6)) (3.8.2)\n",
      "Requirement already satisfied: seaborn in c:\\users\\lenovo\\anaconda3\\lib\\site-packages (from -r requirements.txt (line 7)) (0.13.2)\n",
      "Requirement already satisfied: joblib in c:\\users\\lenovo\\anaconda3\\lib\\site-packages (from -r requirements.txt (line 8)) (1.4.2)\n",
      "Requirement already satisfied: jupyter in c:\\users\\lenovo\\anaconda3\\lib\\site-packages (from -r requirements.txt (line 9)) (1.0.0)\n",
      "Requirement already satisfied: scipy>=1.5.0 in c:\\users\\lenovo\\anaconda3\\lib\\site-packages (from scikit-learn->-r requirements.txt (line 2)) (1.15.2)\n",
      "Requirement already satisfied: threadpoolctl>=2.0.0 in c:\\users\\lenovo\\anaconda3\\lib\\site-packages (from scikit-learn->-r requirements.txt (line 2)) (2.2.0)\n",
      "Requirement already satisfied: python-dateutil>=2.8.2 in c:\\users\\lenovo\\anaconda3\\lib\\site-packages (from pandas->-r requirements.txt (line 4)) (2.9.0.post0)\n",
      "Requirement already satisfied: pytz>=2020.1 in c:\\users\\lenovo\\anaconda3\\lib\\site-packages (from pandas->-r requirements.txt (line 4)) (2024.1)\n",
      "Requirement already satisfied: tzdata>=2022.1 in c:\\users\\lenovo\\anaconda3\\lib\\site-packages (from pandas->-r requirements.txt (line 4)) (2023.3)\n",
      "Requirement already satisfied: contourpy>=1.0.1 in c:\\users\\lenovo\\anaconda3\\lib\\site-packages (from matplotlib->-r requirements.txt (line 6)) (1.2.0)\n",
      "Requirement already satisfied: cycler>=0.10 in c:\\users\\lenovo\\anaconda3\\lib\\site-packages (from matplotlib->-r requirements.txt (line 6)) (0.11.0)\n",
      "Requirement already satisfied: fonttools>=4.22.0 in c:\\users\\lenovo\\anaconda3\\lib\\site-packages (from matplotlib->-r requirements.txt (line 6)) (4.51.0)\n",
      "Requirement already satisfied: kiwisolver>=1.3.1 in c:\\users\\lenovo\\anaconda3\\lib\\site-packages (from matplotlib->-r requirements.txt (line 6)) (1.4.4)\n",
      "Requirement already satisfied: packaging>=20.0 in c:\\users\\lenovo\\anaconda3\\lib\\site-packages (from matplotlib->-r requirements.txt (line 6)) (23.2)\n",
      "Requirement already satisfied: pillow>=8 in c:\\users\\lenovo\\anaconda3\\lib\\site-packages (from matplotlib->-r requirements.txt (line 6)) (10.3.0)\n",
      "Requirement already satisfied: pyparsing>=2.3.1 in c:\\users\\lenovo\\anaconda3\\lib\\site-packages (from matplotlib->-r requirements.txt (line 6)) (3.0.9)\n",
      "Requirement already satisfied: notebook in c:\\users\\lenovo\\anaconda3\\lib\\site-packages (from jupyter->-r requirements.txt (line 9)) (7.0.8)\n",
      "Requirement already satisfied: qtconsole in c:\\users\\lenovo\\anaconda3\\lib\\site-packages (from jupyter->-r requirements.txt (line 9)) (5.5.1)\n",
      "Requirement already satisfied: jupyter-console in c:\\users\\lenovo\\anaconda3\\lib\\site-packages (from jupyter->-r requirements.txt (line 9)) (6.6.3)\n",
      "Requirement already satisfied: nbconvert in c:\\users\\lenovo\\anaconda3\\lib\\site-packages (from jupyter->-r requirements.txt (line 9)) (7.10.0)\n",
      "Requirement already satisfied: ipykernel in c:\\users\\lenovo\\anaconda3\\lib\\site-packages (from jupyter->-r requirements.txt (line 9)) (6.28.0)\n",
      "Requirement already satisfied: ipywidgets in c:\\users\\lenovo\\anaconda3\\lib\\site-packages (from jupyter->-r requirements.txt (line 9)) (7.8.1)\n",
      "Requirement already satisfied: six>=1.5 in c:\\users\\lenovo\\anaconda3\\lib\\site-packages (from python-dateutil>=2.8.2->pandas->-r requirements.txt (line 4)) (1.16.0)\n",
      "Requirement already satisfied: comm>=0.1.1 in c:\\users\\lenovo\\anaconda3\\lib\\site-packages (from ipykernel->jupyter->-r requirements.txt (line 9)) (0.2.1)\n",
      "Requirement already satisfied: debugpy>=1.6.5 in c:\\users\\lenovo\\anaconda3\\lib\\site-packages (from ipykernel->jupyter->-r requirements.txt (line 9)) (1.6.7)\n",
      "Requirement already satisfied: ipython>=7.23.1 in c:\\users\\lenovo\\anaconda3\\lib\\site-packages (from ipykernel->jupyter->-r requirements.txt (line 9)) (8.25.0)\n",
      "Requirement already satisfied: jupyter-client>=6.1.12 in c:\\users\\lenovo\\anaconda3\\lib\\site-packages (from ipykernel->jupyter->-r requirements.txt (line 9)) (8.6.0)\n",
      "Requirement already satisfied: jupyter-core!=5.0.*,>=4.12 in c:\\users\\lenovo\\anaconda3\\lib\\site-packages (from ipykernel->jupyter->-r requirements.txt (line 9)) (5.7.2)\n",
      "Requirement already satisfied: matplotlib-inline>=0.1 in c:\\users\\lenovo\\anaconda3\\lib\\site-packages (from ipykernel->jupyter->-r requirements.txt (line 9)) (0.1.6)\n",
      "Requirement already satisfied: nest-asyncio in c:\\users\\lenovo\\anaconda3\\lib\\site-packages (from ipykernel->jupyter->-r requirements.txt (line 9)) (1.6.0)\n",
      "Requirement already satisfied: psutil in c:\\users\\lenovo\\anaconda3\\lib\\site-packages (from ipykernel->jupyter->-r requirements.txt (line 9)) (5.9.0)\n",
      "Requirement already satisfied: pyzmq>=24 in c:\\users\\lenovo\\anaconda3\\lib\\site-packages (from ipykernel->jupyter->-r requirements.txt (line 9)) (25.1.2)\n",
      "Requirement already satisfied: tornado>=6.1 in c:\\users\\lenovo\\anaconda3\\lib\\site-packages (from ipykernel->jupyter->-r requirements.txt (line 9)) (6.4.1)\n",
      "Requirement already satisfied: traitlets>=5.4.0 in c:\\users\\lenovo\\anaconda3\\lib\\site-packages (from ipykernel->jupyter->-r requirements.txt (line 9)) (5.14.3)\n",
      "Requirement already satisfied: ipython-genutils~=0.2.0 in c:\\users\\lenovo\\anaconda3\\lib\\site-packages (from ipywidgets->jupyter->-r requirements.txt (line 9)) (0.2.0)\n",
      "Requirement already satisfied: widgetsnbextension~=3.6.6 in c:\\users\\lenovo\\anaconda3\\lib\\site-packages (from ipywidgets->jupyter->-r requirements.txt (line 9)) (3.6.6)\n",
      "Requirement already satisfied: jupyterlab-widgets<3,>=1.0.0 in c:\\users\\lenovo\\anaconda3\\lib\\site-packages (from ipywidgets->jupyter->-r requirements.txt (line 9)) (1.0.0)\n",
      "Requirement already satisfied: prompt-toolkit>=3.0.30 in c:\\users\\lenovo\\anaconda3\\lib\\site-packages (from jupyter-console->jupyter->-r requirements.txt (line 9)) (3.0.43)\n",
      "Requirement already satisfied: pygments in c:\\users\\lenovo\\anaconda3\\lib\\site-packages (from jupyter-console->jupyter->-r requirements.txt (line 9)) (2.15.1)\n",
      "Requirement already satisfied: beautifulsoup4 in c:\\users\\lenovo\\anaconda3\\lib\\site-packages (from nbconvert->jupyter->-r requirements.txt (line 9)) (4.12.3)\n",
      "Requirement already satisfied: bleach!=5.0.0 in c:\\users\\lenovo\\anaconda3\\lib\\site-packages (from nbconvert->jupyter->-r requirements.txt (line 9)) (4.1.0)\n",
      "Requirement already satisfied: defusedxml in c:\\users\\lenovo\\anaconda3\\lib\\site-packages (from nbconvert->jupyter->-r requirements.txt (line 9)) (0.7.1)\n",
      "Requirement already satisfied: jinja2>=3.0 in c:\\users\\lenovo\\anaconda3\\lib\\site-packages (from nbconvert->jupyter->-r requirements.txt (line 9)) (3.1.4)\n",
      "Requirement already satisfied: jupyterlab-pygments in c:\\users\\lenovo\\anaconda3\\lib\\site-packages (from nbconvert->jupyter->-r requirements.txt (line 9)) (0.1.2)\n",
      "Requirement already satisfied: markupsafe>=2.0 in c:\\users\\lenovo\\anaconda3\\lib\\site-packages (from nbconvert->jupyter->-r requirements.txt (line 9)) (2.1.3)\n",
      "Requirement already satisfied: mistune<4,>=2.0.3 in c:\\users\\lenovo\\anaconda3\\lib\\site-packages (from nbconvert->jupyter->-r requirements.txt (line 9)) (2.0.4)\n",
      "Requirement already satisfied: nbclient>=0.5.0 in c:\\users\\lenovo\\anaconda3\\lib\\site-packages (from nbconvert->jupyter->-r requirements.txt (line 9)) (0.8.0)\n",
      "Requirement already satisfied: nbformat>=5.7 in c:\\users\\lenovo\\anaconda3\\lib\\site-packages (from nbconvert->jupyter->-r requirements.txt (line 9)) (5.9.2)\n",
      "Requirement already satisfied: pandocfilters>=1.4.1 in c:\\users\\lenovo\\anaconda3\\lib\\site-packages (from nbconvert->jupyter->-r requirements.txt (line 9)) (1.5.0)\n",
      "Requirement already satisfied: tinycss2 in c:\\users\\lenovo\\anaconda3\\lib\\site-packages (from nbconvert->jupyter->-r requirements.txt (line 9)) (1.2.1)\n",
      "Requirement already satisfied: jupyter-server<3,>=2.4.0 in c:\\users\\lenovo\\anaconda3\\lib\\site-packages (from notebook->jupyter->-r requirements.txt (line 9)) (2.14.1)\n",
      "Requirement already satisfied: jupyterlab-server<3,>=2.22.1 in c:\\users\\lenovo\\anaconda3\\lib\\site-packages (from notebook->jupyter->-r requirements.txt (line 9)) (2.25.1)\n",
      "Requirement already satisfied: jupyterlab<4.1,>=4.0.2 in c:\\users\\lenovo\\anaconda3\\lib\\site-packages (from notebook->jupyter->-r requirements.txt (line 9)) (4.0.11)\n",
      "Requirement already satisfied: notebook-shim<0.3,>=0.2 in c:\\users\\lenovo\\anaconda3\\lib\\site-packages (from notebook->jupyter->-r requirements.txt (line 9)) (0.2.3)\n",
      "Requirement already satisfied: qtpy>=2.4.0 in c:\\users\\lenovo\\anaconda3\\lib\\site-packages (from qtconsole->jupyter->-r requirements.txt (line 9)) (2.4.1)\n",
      "Requirement already satisfied: webencodings in c:\\users\\lenovo\\anaconda3\\lib\\site-packages (from bleach!=5.0.0->nbconvert->jupyter->-r requirements.txt (line 9)) (0.5.1)\n",
      "Requirement already satisfied: decorator in c:\\users\\lenovo\\anaconda3\\lib\\site-packages (from ipython>=7.23.1->ipykernel->jupyter->-r requirements.txt (line 9)) (5.1.1)\n",
      "Requirement already satisfied: jedi>=0.16 in c:\\users\\lenovo\\anaconda3\\lib\\site-packages (from ipython>=7.23.1->ipykernel->jupyter->-r requirements.txt (line 9)) (0.18.1)\n",
      "Requirement already satisfied: stack-data in c:\\users\\lenovo\\anaconda3\\lib\\site-packages (from ipython>=7.23.1->ipykernel->jupyter->-r requirements.txt (line 9)) (0.2.0)\n",
      "Requirement already satisfied: colorama in c:\\users\\lenovo\\anaconda3\\lib\\site-packages (from ipython>=7.23.1->ipykernel->jupyter->-r requirements.txt (line 9)) (0.4.6)\n",
      "Requirement already satisfied: platformdirs>=2.5 in c:\\users\\lenovo\\anaconda3\\lib\\site-packages (from jupyter-core!=5.0.*,>=4.12->ipykernel->jupyter->-r requirements.txt (line 9)) (3.10.0)\n",
      "Requirement already satisfied: pywin32>=300 in c:\\users\\lenovo\\anaconda3\\lib\\site-packages (from jupyter-core!=5.0.*,>=4.12->ipykernel->jupyter->-r requirements.txt (line 9)) (305.1)\n",
      "Requirement already satisfied: anyio>=3.1.0 in c:\\users\\lenovo\\anaconda3\\lib\\site-packages (from jupyter-server<3,>=2.4.0->notebook->jupyter->-r requirements.txt (line 9)) (4.2.0)\n",
      "Requirement already satisfied: argon2-cffi>=21.1 in c:\\users\\lenovo\\anaconda3\\lib\\site-packages (from jupyter-server<3,>=2.4.0->notebook->jupyter->-r requirements.txt (line 9)) (21.3.0)\n",
      "Requirement already satisfied: jupyter-events>=0.9.0 in c:\\users\\lenovo\\anaconda3\\lib\\site-packages (from jupyter-server<3,>=2.4.0->notebook->jupyter->-r requirements.txt (line 9)) (0.10.0)\n",
      "Requirement already satisfied: jupyter-server-terminals>=0.4.4 in c:\\users\\lenovo\\anaconda3\\lib\\site-packages (from jupyter-server<3,>=2.4.0->notebook->jupyter->-r requirements.txt (line 9)) (0.4.4)\n",
      "Requirement already satisfied: overrides>=5.0 in c:\\users\\lenovo\\anaconda3\\lib\\site-packages (from jupyter-server<3,>=2.4.0->notebook->jupyter->-r requirements.txt (line 9)) (7.4.0)\n",
      "Requirement already satisfied: prometheus-client>=0.9 in c:\\users\\lenovo\\anaconda3\\lib\\site-packages (from jupyter-server<3,>=2.4.0->notebook->jupyter->-r requirements.txt (line 9)) (0.14.1)\n",
      "Requirement already satisfied: pywinpty>=2.0.1 in c:\\users\\lenovo\\anaconda3\\lib\\site-packages (from jupyter-server<3,>=2.4.0->notebook->jupyter->-r requirements.txt (line 9)) (2.0.10)\n",
      "Requirement already satisfied: send2trash>=1.8.2 in c:\\users\\lenovo\\anaconda3\\lib\\site-packages (from jupyter-server<3,>=2.4.0->notebook->jupyter->-r requirements.txt (line 9)) (1.8.2)\n",
      "Requirement already satisfied: terminado>=0.8.3 in c:\\users\\lenovo\\anaconda3\\lib\\site-packages (from jupyter-server<3,>=2.4.0->notebook->jupyter->-r requirements.txt (line 9)) (0.17.1)\n",
      "Requirement already satisfied: websocket-client>=1.7 in c:\\users\\lenovo\\anaconda3\\lib\\site-packages (from jupyter-server<3,>=2.4.0->notebook->jupyter->-r requirements.txt (line 9)) (1.8.0)\n",
      "Requirement already satisfied: async-lru>=1.0.0 in c:\\users\\lenovo\\anaconda3\\lib\\site-packages (from jupyterlab<4.1,>=4.0.2->notebook->jupyter->-r requirements.txt (line 9)) (2.0.4)\n",
      "Requirement already satisfied: jupyter-lsp>=2.0.0 in c:\\users\\lenovo\\anaconda3\\lib\\site-packages (from jupyterlab<4.1,>=4.0.2->notebook->jupyter->-r requirements.txt (line 9)) (2.2.0)\n",
      "Requirement already satisfied: babel>=2.10 in c:\\users\\lenovo\\anaconda3\\lib\\site-packages (from jupyterlab-server<3,>=2.22.1->notebook->jupyter->-r requirements.txt (line 9)) (2.11.0)\n",
      "Requirement already satisfied: json5>=0.9.0 in c:\\users\\lenovo\\anaconda3\\lib\\site-packages (from jupyterlab-server<3,>=2.22.1->notebook->jupyter->-r requirements.txt (line 9)) (0.9.6)\n",
      "Requirement already satisfied: jsonschema>=4.18.0 in c:\\users\\lenovo\\anaconda3\\lib\\site-packages (from jupyterlab-server<3,>=2.22.1->notebook->jupyter->-r requirements.txt (line 9)) (4.19.2)\n",
      "Requirement already satisfied: requests>=2.31 in c:\\users\\lenovo\\anaconda3\\lib\\site-packages (from jupyterlab-server<3,>=2.22.1->notebook->jupyter->-r requirements.txt (line 9)) (2.32.2)\n",
      "Requirement already satisfied: fastjsonschema in c:\\users\\lenovo\\anaconda3\\lib\\site-packages (from nbformat>=5.7->nbconvert->jupyter->-r requirements.txt (line 9)) (2.16.2)\n",
      "Requirement already satisfied: wcwidth in c:\\users\\lenovo\\anaconda3\\lib\\site-packages (from prompt-toolkit>=3.0.30->jupyter-console->jupyter->-r requirements.txt (line 9)) (0.2.5)\n",
      "Requirement already satisfied: soupsieve>1.2 in c:\\users\\lenovo\\anaconda3\\lib\\site-packages (from beautifulsoup4->nbconvert->jupyter->-r requirements.txt (line 9)) (2.5)\n",
      "Requirement already satisfied: idna>=2.8 in c:\\users\\lenovo\\anaconda3\\lib\\site-packages (from anyio>=3.1.0->jupyter-server<3,>=2.4.0->notebook->jupyter->-r requirements.txt (line 9)) (3.7)\n",
      "Requirement already satisfied: sniffio>=1.1 in c:\\users\\lenovo\\anaconda3\\lib\\site-packages (from anyio>=3.1.0->jupyter-server<3,>=2.4.0->notebook->jupyter->-r requirements.txt (line 9)) (1.3.0)\n",
      "Requirement already satisfied: argon2-cffi-bindings in c:\\users\\lenovo\\anaconda3\\lib\\site-packages (from argon2-cffi>=21.1->jupyter-server<3,>=2.4.0->notebook->jupyter->-r requirements.txt (line 9)) (21.2.0)\n",
      "Requirement already satisfied: parso<0.9.0,>=0.8.0 in c:\\users\\lenovo\\anaconda3\\lib\\site-packages (from jedi>=0.16->ipython>=7.23.1->ipykernel->jupyter->-r requirements.txt (line 9)) (0.8.3)\n",
      "Requirement already satisfied: attrs>=22.2.0 in c:\\users\\lenovo\\anaconda3\\lib\\site-packages (from jsonschema>=4.18.0->jupyterlab-server<3,>=2.22.1->notebook->jupyter->-r requirements.txt (line 9)) (23.1.0)\n",
      "Requirement already satisfied: jsonschema-specifications>=2023.03.6 in c:\\users\\lenovo\\anaconda3\\lib\\site-packages (from jsonschema>=4.18.0->jupyterlab-server<3,>=2.22.1->notebook->jupyter->-r requirements.txt (line 9)) (2023.7.1)\n",
      "Requirement already satisfied: referencing>=0.28.4 in c:\\users\\lenovo\\anaconda3\\lib\\site-packages (from jsonschema>=4.18.0->jupyterlab-server<3,>=2.22.1->notebook->jupyter->-r requirements.txt (line 9)) (0.30.2)\n",
      "Requirement already satisfied: rpds-py>=0.7.1 in c:\\users\\lenovo\\anaconda3\\lib\\site-packages (from jsonschema>=4.18.0->jupyterlab-server<3,>=2.22.1->notebook->jupyter->-r requirements.txt (line 9)) (0.10.6)\n",
      "Requirement already satisfied: python-json-logger>=2.0.4 in c:\\users\\lenovo\\anaconda3\\lib\\site-packages (from jupyter-events>=0.9.0->jupyter-server<3,>=2.4.0->notebook->jupyter->-r requirements.txt (line 9)) (2.0.7)\n",
      "Requirement already satisfied: pyyaml>=5.3 in c:\\users\\lenovo\\anaconda3\\lib\\site-packages (from jupyter-events>=0.9.0->jupyter-server<3,>=2.4.0->notebook->jupyter->-r requirements.txt (line 9)) (6.0.1)\n",
      "Requirement already satisfied: rfc3339-validator in c:\\users\\lenovo\\anaconda3\\lib\\site-packages (from jupyter-events>=0.9.0->jupyter-server<3,>=2.4.0->notebook->jupyter->-r requirements.txt (line 9)) (0.1.4)\n",
      "Requirement already satisfied: rfc3986-validator>=0.1.1 in c:\\users\\lenovo\\anaconda3\\lib\\site-packages (from jupyter-events>=0.9.0->jupyter-server<3,>=2.4.0->notebook->jupyter->-r requirements.txt (line 9)) (0.1.1)\n",
      "Requirement already satisfied: charset-normalizer<4,>=2 in c:\\users\\lenovo\\anaconda3\\lib\\site-packages (from requests>=2.31->jupyterlab-server<3,>=2.22.1->notebook->jupyter->-r requirements.txt (line 9)) (2.0.4)\n",
      "Requirement already satisfied: urllib3<3,>=1.21.1 in c:\\users\\lenovo\\anaconda3\\lib\\site-packages (from requests>=2.31->jupyterlab-server<3,>=2.22.1->notebook->jupyter->-r requirements.txt (line 9)) (2.2.2)\n",
      "Requirement already satisfied: certifi>=2017.4.17 in c:\\users\\lenovo\\anaconda3\\lib\\site-packages (from requests>=2.31->jupyterlab-server<3,>=2.22.1->notebook->jupyter->-r requirements.txt (line 9)) (2025.1.31)\n",
      "Requirement already satisfied: executing in c:\\users\\lenovo\\anaconda3\\lib\\site-packages (from stack-data->ipython>=7.23.1->ipykernel->jupyter->-r requirements.txt (line 9)) (0.8.3)\n",
      "Requirement already satisfied: asttokens in c:\\users\\lenovo\\anaconda3\\lib\\site-packages (from stack-data->ipython>=7.23.1->ipykernel->jupyter->-r requirements.txt (line 9)) (2.0.5)\n",
      "Requirement already satisfied: pure-eval in c:\\users\\lenovo\\anaconda3\\lib\\site-packages (from stack-data->ipython>=7.23.1->ipykernel->jupyter->-r requirements.txt (line 9)) (0.2.2)\n",
      "Requirement already satisfied: fqdn in c:\\users\\lenovo\\anaconda3\\lib\\site-packages (from jsonschema[format-nongpl]>=4.18.0->jupyter-events>=0.9.0->jupyter-server<3,>=2.4.0->notebook->jupyter->-r requirements.txt (line 9)) (1.5.1)\n",
      "Requirement already satisfied: isoduration in c:\\users\\lenovo\\anaconda3\\lib\\site-packages (from jsonschema[format-nongpl]>=4.18.0->jupyter-events>=0.9.0->jupyter-server<3,>=2.4.0->notebook->jupyter->-r requirements.txt (line 9)) (20.11.0)\n",
      "Requirement already satisfied: jsonpointer>1.13 in c:\\users\\lenovo\\anaconda3\\lib\\site-packages (from jsonschema[format-nongpl]>=4.18.0->jupyter-events>=0.9.0->jupyter-server<3,>=2.4.0->notebook->jupyter->-r requirements.txt (line 9)) (2.1)\n",
      "Requirement already satisfied: uri-template in c:\\users\\lenovo\\anaconda3\\lib\\site-packages (from jsonschema[format-nongpl]>=4.18.0->jupyter-events>=0.9.0->jupyter-server<3,>=2.4.0->notebook->jupyter->-r requirements.txt (line 9)) (1.3.0)\n",
      "Requirement already satisfied: webcolors>=1.11 in c:\\users\\lenovo\\anaconda3\\lib\\site-packages (from jsonschema[format-nongpl]>=4.18.0->jupyter-events>=0.9.0->jupyter-server<3,>=2.4.0->notebook->jupyter->-r requirements.txt (line 9)) (24.11.1)\n",
      "Requirement already satisfied: cffi>=1.0.1 in c:\\users\\lenovo\\anaconda3\\lib\\site-packages (from argon2-cffi-bindings->argon2-cffi>=21.1->jupyter-server<3,>=2.4.0->notebook->jupyter->-r requirements.txt (line 9)) (1.16.0)\n",
      "Requirement already satisfied: pycparser in c:\\users\\lenovo\\anaconda3\\lib\\site-packages (from cffi>=1.0.1->argon2-cffi-bindings->argon2-cffi>=21.1->jupyter-server<3,>=2.4.0->notebook->jupyter->-r requirements.txt (line 9)) (2.21)\n",
      "Requirement already satisfied: arrow>=0.15.0 in c:\\users\\lenovo\\anaconda3\\lib\\site-packages (from isoduration->jsonschema[format-nongpl]>=4.18.0->jupyter-events>=0.9.0->jupyter-server<3,>=2.4.0->notebook->jupyter->-r requirements.txt (line 9)) (1.2.3)\n"
     ]
    }
   ],
   "source": [
    "!pip install -r requirements.txt"
   ]
  },
  {
   "cell_type": "markdown",
   "metadata": {
    "id": "k-pojNpYvek5"
   },
   "source": [
    "# Imports"
   ]
  },
  {
   "cell_type": "code",
   "execution_count": 12,
   "metadata": {
    "id": "FfnvTsX8vek5"
   },
   "outputs": [],
   "source": [
    "import numpy as np\n",
    "import pandas as pd\n",
    "import os\n",
    "from tensorflow.keras.preprocessing.text import Tokenizer\n",
    "from tensorflow.keras.preprocessing.sequence import pad_sequences\n",
    "from sklearn.impute import SimpleImputer\n",
    "from sklearn.model_selection import train_test_split\n",
    "from xgboost import XGBClassifier\n",
    "from sklearn.utils.class_weight import compute_class_weight\n",
    "from tensorflow.keras.models import Model\n",
    "from tensorflow.keras.layers import Input, Dense, Embedding, Flatten, Concatenate, Dropout\n",
    "from tensorflow.keras.optimizers import Adam\n",
    "from sklearn.metrics import classification_report, confusion_matrix\n",
    "import matplotlib.pyplot as plt\n",
    "import joblib\n",
    "import xgboost as xgb\n",
    "from sklearn.cluster import KMeans"
   ]
  },
  {
   "cell_type": "markdown",
   "metadata": {
    "id": "8eHk7FekHk0X"
   },
   "source": [
    "# Data Loading"
   ]
  },
  {
   "cell_type": "code",
   "execution_count": 18,
   "metadata": {
    "colab": {
     "base_uri": "https://localhost:8080/"
    },
    "id": "LCLuDudpO0FP",
    "outputId": "6dc5f8ea-ed6d-4b24-e7b7-314bbbc5448f"
   },
   "outputs": [
    {
     "name": "stdout",
     "output_type": "stream",
     "text": [
      "Dataset shape: (1004991, 28)\n",
      "Columns: ['DR_NO', 'Date Rptd', 'DATE OCC', 'TIME OCC', 'AREA', 'AREA NAME', 'Rpt Dist No', 'Part 1-2', 'Crm Cd', 'Crm Cd Desc', 'Mocodes', 'Vict Age', 'Vict Sex', 'Vict Descent', 'Premis Cd', 'Premis Desc', 'Weapon Used Cd', 'Weapon Desc', 'Status', 'Status Desc', 'Crm Cd 1', 'Crm Cd 2', 'Crm Cd 3', 'Crm Cd 4', 'LOCATION', 'Cross Street', 'LAT', 'LON']\n",
      "<class 'pandas.core.frame.DataFrame'>\n",
      "RangeIndex: 1004991 entries, 0 to 1004990\n",
      "Data columns (total 28 columns):\n",
      " #   Column          Non-Null Count    Dtype  \n",
      "---  ------          --------------    -----  \n",
      " 0   DR_NO           1004991 non-null  int64  \n",
      " 1   Date Rptd       1004991 non-null  object \n",
      " 2   DATE OCC        1004991 non-null  object \n",
      " 3   TIME OCC        1004991 non-null  int64  \n",
      " 4   AREA            1004991 non-null  int64  \n",
      " 5   AREA NAME       1004991 non-null  object \n",
      " 6   Rpt Dist No     1004991 non-null  int64  \n",
      " 7   Part 1-2        1004991 non-null  int64  \n",
      " 8   Crm Cd          1004991 non-null  int64  \n",
      " 9   Crm Cd Desc     1004991 non-null  object \n",
      " 10  Mocodes         853372 non-null   object \n",
      " 11  Vict Age        1004991 non-null  int64  \n",
      " 12  Vict Sex        860347 non-null   object \n",
      " 13  Vict Descent    860335 non-null   object \n",
      " 14  Premis Cd       1004975 non-null  float64\n",
      " 15  Premis Desc     1004403 non-null  object \n",
      " 16  Weapon Used Cd  327247 non-null   float64\n",
      " 17  Weapon Desc     327247 non-null   object \n",
      " 18  Status          1004990 non-null  object \n",
      " 19  Status Desc     1004991 non-null  object \n",
      " 20  Crm Cd 1        1004980 non-null  float64\n",
      " 21  Crm Cd 2        69160 non-null    float64\n",
      " 22  Crm Cd 3        2314 non-null     float64\n",
      " 23  Crm Cd 4        64 non-null       float64\n",
      " 24  LOCATION        1004991 non-null  object \n",
      " 25  Cross Street    154236 non-null   object \n",
      " 26  LAT             1004991 non-null  float64\n",
      " 27  LON             1004991 non-null  float64\n",
      "dtypes: float64(8), int64(7), object(13)\n",
      "memory usage: 214.7+ MB\n",
      "None\n",
      "       DR_NO               Date Rptd                DATE OCC  TIME OCC  AREA  \\\n",
      "0  211507896  04/11/2021 12:00:00 AM  11/07/2020 12:00:00 AM       845    15   \n",
      "1  201516622  10/21/2020 12:00:00 AM  10/18/2020 12:00:00 AM      1845    15   \n",
      "2  240913563  12/10/2024 12:00:00 AM  10/30/2020 12:00:00 AM      1240     9   \n",
      "3  210704711  12/24/2020 12:00:00 AM  12/24/2020 12:00:00 AM      1310     7   \n",
      "4  201418201  10/03/2020 12:00:00 AM  09/29/2020 12:00:00 AM      1830    14   \n",
      "\n",
      "     AREA NAME  Rpt Dist No  Part 1-2  Crm Cd  \\\n",
      "0  N Hollywood         1502         2     354   \n",
      "1  N Hollywood         1521         1     230   \n",
      "2     Van Nuys          933         2     354   \n",
      "3     Wilshire          782         1     331   \n",
      "4      Pacific         1454         1     420   \n",
      "\n",
      "                                         Crm Cd Desc  ... Status  Status Desc  \\\n",
      "0                                  THEFT OF IDENTITY  ...     IC  Invest Cont   \n",
      "1     ASSAULT WITH DEADLY WEAPON, AGGRAVATED ASSAULT  ...     IC  Invest Cont   \n",
      "2                                  THEFT OF IDENTITY  ...     IC  Invest Cont   \n",
      "3  THEFT FROM MOTOR VEHICLE - GRAND ($950.01 AND ...  ...     IC  Invest Cont   \n",
      "4    THEFT FROM MOTOR VEHICLE - PETTY ($950 & UNDER)  ...     IC  Invest Cont   \n",
      "\n",
      "  Crm Cd 1 Crm Cd 2  Crm Cd 3 Crm Cd 4  \\\n",
      "0    354.0      NaN       NaN      NaN   \n",
      "1    230.0      NaN       NaN      NaN   \n",
      "2    354.0      NaN       NaN      NaN   \n",
      "3    331.0      NaN       NaN      NaN   \n",
      "4    420.0      NaN       NaN      NaN   \n",
      "\n",
      "                                   LOCATION Cross Street      LAT       LON  \n",
      "0   7800    BEEMAN                       AV          NaN  34.2124 -118.4092  \n",
      "1           ATOLL                        AV     N  GAULT  34.1993 -118.4203  \n",
      "2  14600    SYLVAN                       ST          NaN  34.1847 -118.4509  \n",
      "3   6000    COMEY                        AV          NaN  34.0339 -118.3747  \n",
      "4                   4700    LA VILLA MARINA          NaN  33.9813 -118.4350  \n",
      "\n",
      "[5 rows x 28 columns]\n",
      "Case status distribution:\n",
      "DR_NO\n",
      "211507896    1\n",
      "230604154    1\n",
      "232115006    1\n",
      "231510801    1\n",
      "231517385    1\n",
      "            ..\n",
      "212011313    1\n",
      "211414259    1\n",
      "210210646    1\n",
      "212112306    1\n",
      "251904210    1\n",
      "Name: count, Length: 1004991, dtype: int64\n",
      "Case status distribution:\n",
      "Date Rptd\n",
      "02/02/2023 12:00:00 AM    929\n",
      "02/03/2023 12:00:00 AM    927\n",
      "01/03/2023 12:00:00 AM    914\n",
      "05/02/2022 12:00:00 AM    909\n",
      "04/04/2022 12:00:00 AM    883\n",
      "                         ... \n",
      "01/20/2025 12:00:00 AM      1\n",
      "01/19/2025 12:00:00 AM      1\n",
      "01/13/2025 12:00:00 AM      1\n",
      "02/24/2025 12:00:00 AM      1\n",
      "03/25/2025 12:00:00 AM      1\n",
      "Name: count, Length: 1896, dtype: int64\n",
      "Case status distribution:\n",
      "DATE OCC\n",
      "01/01/2020 12:00:00 AM    1164\n",
      "01/01/2023 12:00:00 AM    1159\n",
      "12/02/2022 12:00:00 AM    1132\n",
      "02/01/2023 12:00:00 AM    1093\n",
      "10/01/2022 12:00:00 AM    1079\n",
      "                          ... \n",
      "03/19/2025 12:00:00 AM       1\n",
      "05/29/2025 12:00:00 AM       1\n",
      "02/17/2025 12:00:00 AM       1\n",
      "03/08/2025 12:00:00 AM       1\n",
      "01/17/2025 12:00:00 AM       1\n",
      "Name: count, Length: 1879, dtype: int64\n",
      "Case status distribution:\n",
      "TIME OCC\n",
      "1200    35200\n",
      "1800    26576\n",
      "1700    25190\n",
      "2000    24779\n",
      "1900    23075\n",
      "        ...  \n",
      "741        29\n",
      "534        26\n",
      "2332       26\n",
      "559        23\n",
      "531        19\n",
      "Name: count, Length: 1439, dtype: int64\n",
      "Case status distribution:\n",
      "AREA\n",
      "1     69670\n",
      "12    61758\n",
      "14    59514\n",
      "3     57441\n",
      "6     52429\n",
      "15    51107\n",
      "20    50071\n",
      "18    49936\n",
      "13    49177\n",
      "7     48239\n",
      "2     46825\n",
      "8     45729\n",
      "11    42963\n",
      "9     42883\n",
      "10    42156\n",
      "17    41756\n",
      "5     41394\n",
      "21    41374\n",
      "19    40351\n",
      "4     37085\n",
      "16    33133\n",
      "Name: count, dtype: int64\n",
      "Case status distribution:\n",
      "AREA NAME\n",
      "Central        69670\n",
      "77th Street    61758\n",
      "Pacific        59514\n",
      "Southwest      57441\n",
      "Hollywood      52429\n",
      "N Hollywood    51107\n",
      "Olympic        50071\n",
      "Southeast      49936\n",
      "Newton         49177\n",
      "Wilshire       48239\n",
      "Rampart        46825\n",
      "West LA        45729\n",
      "Northeast      42963\n",
      "Van Nuys       42883\n",
      "West Valley    42156\n",
      "Devonshire     41756\n",
      "Harbor         41394\n",
      "Topanga        41374\n",
      "Mission        40351\n",
      "Hollenbeck     37085\n",
      "Foothill       33133\n",
      "Name: count, dtype: int64\n",
      "Case status distribution:\n",
      "Rpt Dist No\n",
      "162     5403\n",
      "1494    5370\n",
      "645     5025\n",
      "182     4896\n",
      "646     4426\n",
      "        ... \n",
      "225        1\n",
      "1053       1\n",
      "1087       1\n",
      "917        1\n",
      "902        1\n",
      "Name: count, Length: 1210, dtype: int64\n",
      "Case status distribution:\n",
      "Part 1-2\n",
      "1    602645\n",
      "2    402346\n",
      "Name: count, dtype: int64\n",
      "Case status distribution:\n",
      "Crm Cd\n",
      "510    115190\n",
      "624     74839\n",
      "330     63517\n",
      "354     62537\n",
      "740     61092\n",
      "        ...  \n",
      "904         5\n",
      "906         4\n",
      "445         4\n",
      "926         1\n",
      "453         1\n",
      "Name: count, Length: 140, dtype: int64\n",
      "Case status distribution:\n",
      "Crm Cd Desc\n",
      "VEHICLE - STOLEN                                           115190\n",
      "BATTERY - SIMPLE ASSAULT                                    74839\n",
      "BURGLARY FROM VEHICLE                                       63517\n",
      "THEFT OF IDENTITY                                           62537\n",
      "VANDALISM - FELONY ($400 & OVER, ALL CHURCH VANDALISMS)     61092\n",
      "                                                            ...  \n",
      "FIREARMS EMERGENCY PROTECTIVE ORDER (FIREARMS EPO)              5\n",
      "FIREARMS RESTRAINING ORDER (FIREARMS RO)                        4\n",
      "DISHONEST EMPLOYEE ATTEMPTED THEFT                              4\n",
      "TRAIN WRECKING                                                  1\n",
      "DRUNK ROLL - ATTEMPT                                            1\n",
      "Name: count, Length: 140, dtype: int64\n",
      "Case status distribution:\n",
      "Mocodes\n",
      "0344                                  42187\n",
      "0329                                  21630\n",
      "1822 0344                             14247\n",
      "0325                                  10278\n",
      "0344 1822                              9840\n",
      "                                      ...  \n",
      "1822 0342 0334 0302 0432 1309 2035        1\n",
      "0913 1813 1601 0419 0429 2000 1402        1\n",
      "1402 0913 0329 0907                       1\n",
      "0421 1202 0561                            1\n",
      "0529 2024 1815 0913                       1\n",
      "Name: count, Length: 310940, dtype: int64\n",
      "Case status distribution:\n",
      "Vict Age\n",
      " 0      269222\n",
      " 30      22289\n",
      " 35      21836\n",
      " 31      21420\n",
      " 29      21345\n",
      "         ...  \n",
      " 98         71\n",
      "-2          28\n",
      "-3           6\n",
      "-4           3\n",
      " 120         1\n",
      "Name: count, Length: 104, dtype: int64\n",
      "Case status distribution:\n",
      "Vict Sex\n",
      "M    403879\n",
      "F    358580\n",
      "X     97773\n",
      "H       114\n",
      "-         1\n",
      "Name: count, dtype: int64\n",
      "Case status distribution:\n",
      "Vict Descent\n",
      "H    296404\n",
      "W    201442\n",
      "B    135816\n",
      "X    106685\n",
      "O     78005\n",
      "A     21340\n",
      "K      5990\n",
      "F      4838\n",
      "C      4631\n",
      "J      1586\n",
      "V      1195\n",
      "I      1015\n",
      "Z       577\n",
      "P       288\n",
      "U       221\n",
      "D        91\n",
      "L        77\n",
      "G        74\n",
      "S        58\n",
      "-         2\n",
      "Name: count, dtype: int64\n",
      "Case status distribution:\n",
      "Premis Cd\n",
      "101.0    261284\n",
      "501.0    163654\n",
      "502.0    119011\n",
      "108.0     69147\n",
      "203.0     47647\n",
      "          ...  \n",
      "240.0         2\n",
      "891.0         2\n",
      "889.0         2\n",
      "137.0         1\n",
      "975.0         1\n",
      "Name: count, Length: 314, dtype: int64\n",
      "Case status distribution:\n",
      "Premis Desc\n",
      "STREET                                          261284\n",
      "SINGLE FAMILY DWELLING                          163654\n",
      "MULTI-UNIT DWELLING (APARTMENT, DUPLEX, ETC)    119011\n",
      "PARKING LOT                                      69147\n",
      "OTHER BUSINESS                                   47647\n",
      "                                                 ...  \n",
      "HORSE RACING/SANTA ANITA PARK*                       2\n",
      "MTA - SILVER LINE - DOWNTOWN STREET STOPS            2\n",
      "MTA - SILVER LINE - LAC/USC MEDICAL CENTER           2\n",
      "DEPT OF DEFENSE FACILITY                             2\n",
      "TRAM/STREETCAR(BOXLIKE WAG ON RAILS)*                1\n",
      "Name: count, Length: 306, dtype: int64\n",
      "Case status distribution:\n",
      "Weapon Used Cd\n",
      "400.0    174761\n",
      "500.0     36390\n",
      "511.0     23846\n",
      "102.0     20182\n",
      "109.0      7267\n",
      "          ...  \n",
      "120.0         3\n",
      "121.0         2\n",
      "119.0         2\n",
      "124.0         2\n",
      "123.0         1\n",
      "Name: count, Length: 79, dtype: int64\n",
      "Case status distribution:\n",
      "Weapon Desc\n",
      "STRONG-ARM (HANDS, FIST, FEET OR BODILY FORCE)    174761\n",
      "UNKNOWN WEAPON/OTHER WEAPON                        36390\n",
      "VERBAL THREAT                                      23846\n",
      "HAND GUN                                           20182\n",
      "SEMI-AUTOMATIC PISTOL                               7267\n",
      "                                                   ...  \n",
      "MAC-11 SEMIAUTOMATIC ASSAULT WEAPON                    3\n",
      "HECKLER & KOCH 91 SEMIAUTOMATIC ASSAULT RIFLE          2\n",
      "MAC-10 SEMIAUTOMATIC ASSAULT WEAPON                    2\n",
      "M-14 SEMIAUTOMATIC ASSAULT RIFLE                       2\n",
      "M1-1 SEMIAUTOMATIC ASSAULT RIFLE                       1\n",
      "Name: count, Length: 79, dtype: int64\n",
      "Case status distribution:\n",
      "Status\n",
      "IC    802862\n",
      "AO    109802\n",
      "AA     87155\n",
      "JA      3286\n",
      "JO      1879\n",
      "CC         6\n",
      "Name: count, dtype: int64\n",
      "Case status distribution:\n",
      "Status Desc\n",
      "Invest Cont     802862\n",
      "Adult Other     109802\n",
      "Adult Arrest     87155\n",
      "Juv Arrest        3286\n",
      "Juv Other         1879\n",
      "UNK                  7\n",
      "Name: count, dtype: int64\n",
      "Case status distribution:\n",
      "Crm Cd 1\n",
      "510.0    115174\n",
      "624.0     75174\n",
      "330.0     63569\n",
      "354.0     62550\n",
      "740.0     61196\n",
      "          ...  \n",
      "904.0         5\n",
      "430.0         4\n",
      "445.0         4\n",
      "926.0         1\n",
      "453.0         1\n",
      "Name: count, Length: 142, dtype: int64\n",
      "Case status distribution:\n",
      "Crm Cd 2\n",
      "998.0    55321\n",
      "930.0     3866\n",
      "860.0     1370\n",
      "761.0      977\n",
      "946.0      898\n",
      "         ...  \n",
      "942.0        1\n",
      "943.0        1\n",
      "471.0        1\n",
      "950.0        1\n",
      "846.0        1\n",
      "Name: count, Length: 126, dtype: int64\n",
      "Case status distribution:\n",
      "Crm Cd 3\n",
      "998.0    2042\n",
      "930.0      85\n",
      "946.0      31\n",
      "910.0      27\n",
      "761.0      23\n",
      "999.0      18\n",
      "740.0      13\n",
      "860.0       7\n",
      "626.0       6\n",
      "901.0       6\n",
      "745.0       5\n",
      "821.0       5\n",
      "956.0       5\n",
      "653.0       5\n",
      "815.0       3\n",
      "888.0       3\n",
      "997.0       3\n",
      "820.0       3\n",
      "993.0       3\n",
      "900.0       2\n",
      "753.0       2\n",
      "906.0       1\n",
      "310.0       1\n",
      "813.0       1\n",
      "903.0       1\n",
      "850.0       1\n",
      "649.0       1\n",
      "943.0       1\n",
      "990.0       1\n",
      "940.0       1\n",
      "434.0       1\n",
      "648.0       1\n",
      "830.0       1\n",
      "763.0       1\n",
      "902.0       1\n",
      "810.0       1\n",
      "933.0       1\n",
      "520.0       1\n",
      "Name: count, dtype: int64\n",
      "Case status distribution:\n",
      "Crm Cd 4\n",
      "998.0    56\n",
      "999.0     3\n",
      "946.0     2\n",
      "930.0     1\n",
      "821.0     1\n",
      "910.0     1\n",
      "Name: count, dtype: int64\n",
      "Case status distribution:\n",
      "LOCATION\n",
      "800 N  ALAMEDA                      ST      2598\n",
      "700 S  FIGUEROA                     ST      1711\n",
      "100    THE GROVE                    DR      1688\n",
      "10200    SANTA MONICA                 BL    1657\n",
      "6TH                          ST             1585\n",
      "                                            ... \n",
      "8500 N  LANKERSHIM                   BL        1\n",
      "3700    BRILLIANT                    DR        1\n",
      "11100    ETON                         AV       1\n",
      "04700    LANKERSHIM                   BL       1\n",
      "12200    ART                          ST       1\n",
      "Name: count, Length: 66566, dtype: int64\n",
      "Case status distribution:\n",
      "Cross Street\n",
      "BROADWAY                           2486\n",
      "FIGUEROA                     ST    1934\n",
      "FIGUEROA                           1646\n",
      "VERMONT                      AV    1634\n",
      "WESTERN                      AV    1491\n",
      "                                   ... \n",
      "BONAPARTE                             1\n",
      "RYNGLER                               1\n",
      "BAY                          DR       1\n",
      "EAGLE VISTA                  ST       1\n",
      "222ND                                 1\n",
      "Name: count, Length: 10413, dtype: int64\n",
      "Case status distribution:\n",
      "LAT\n",
      "34.1016    5705\n",
      "34.2012    4506\n",
      "34.0980    4265\n",
      "34.1939    3544\n",
      "34.1867    3299\n",
      "           ... \n",
      "33.8678       1\n",
      "33.8176       1\n",
      "33.8159       1\n",
      "33.7423       1\n",
      "33.7675       1\n",
      "Name: count, Length: 5426, dtype: int64\n",
      "Case status distribution:\n",
      "LON\n",
      "-118.2739    7550\n",
      "-118.2827    6434\n",
      "-118.2915    4296\n",
      "-118.2652    4257\n",
      "-118.2871    3923\n",
      "             ... \n",
      "-118.6586       1\n",
      "-118.5887       1\n",
      "-118.6140       1\n",
      "-118.6417       1\n",
      "-118.6323       1\n",
      "Name: count, Length: 4982, dtype: int64\n"
     ]
    }
   ],
   "source": [
    "#insure that this is the correct file path\n",
    "data=pd.read_csv('data/Old_Crime_Data.csv')\n",
    "print(\"Dataset shape:\", data.shape)\n",
    "\n",
    "# Initial data dolums\n",
    "print(\"Columns:\", data.columns.tolist())\n",
    "print(data.info())\n",
    "print(data.head())\n",
    "for col in data.columns.tolist():\n",
    " print(\"Case status distribution:\")\n",
    " print(data[col].value_counts())\n"
   ]
  },
  {
   "cell_type": "markdown",
   "metadata": {
    "id": "5mgGFl8gPcOj",
    "outputId": "9b2d7557-98c9-40d8-e361-6c449c5048be"
   },
   "source": [
    "# Data Preparation & Feature Engineering"
   ]
  },
  {
   "cell_type": "code",
   "execution_count": 20,
   "metadata": {
    "colab": {
     "base_uri": "https://localhost:8080/"
    },
    "id": "sETCSKNAXs4d",
    "outputId": "a60ed693-1928-4aff-abac-841c528d6641"
   },
   "outputs": [
    {
     "name": "stdout",
     "output_type": "stream",
     "text": [
      "Status Desc\n",
      "Invest Cont     802862\n",
      "Adult Other     109802\n",
      "Adult Arrest     87155\n",
      "Juv Arrest        3286\n",
      "Juv Other         1879\n",
      "UNK                  7\n",
      "Name: count, dtype: int64\n",
      "Case status distribution:\n",
      "case_status\n",
      "0    802869\n",
      "2    111681\n",
      "1     90441\n",
      "Name: count, dtype: int64\n"
     ]
    },
    {
     "name": "stderr",
     "output_type": "stream",
     "text": [
      "C:\\Users\\lenovo\\AppData\\Local\\Temp\\ipykernel_6464\\8700629.py:9: UserWarning: Could not infer format, so each element will be parsed individually, falling back to `dateutil`. To ensure parsing is consistent and as-expected, please specify a format.\n",
      "  data['Date Rptd'] = pd.to_datetime(data['Date Rptd'])\n",
      "C:\\Users\\lenovo\\AppData\\Local\\Temp\\ipykernel_6464\\8700629.py:10: UserWarning: Could not infer format, so each element will be parsed individually, falling back to `dateutil`. To ensure parsing is consistent and as-expected, please specify a format.\n",
      "  data['DATE OCC'] = pd.to_datetime(data['DATE OCC'])\n"
     ]
    }
   ],
   "source": [
    "print(data[\"Status Desc\"].value_counts())\n",
    "#simplifing the data , this column will be our Y variable instead of working with multiple values in Status desc\n",
    "data['case_status'] = data['Status Desc'].apply(lambda x: 1 if x in ['Adult Arrest', 'Juv Arrest'] else 2 if x in [ 'Adult Other', 'Juv Other'] else 0)\n",
    "print(\"Case status distribution:\")\n",
    "print(data[\"case_status\"].value_counts())\n",
    "\n",
    "#replaced the two date colum by calculating the time to report\n",
    "#data[\"time_to_report\"]=data.apply(lambda x :pd.to_datetime(x[\"Date Rptd\"]) - pd.to_datetime(x[\"DATE OCC\"]))\n",
    "data['Date Rptd'] = pd.to_datetime(data['Date Rptd'])\n",
    "data['DATE OCC'] = pd.to_datetime(data['DATE OCC'])\n",
    "data[\"time_to_report\"] = (data['Date Rptd'] - data['DATE OCC']).dt.total_seconds() / 3600\n"
   ]
  },
  {
   "cell_type": "code",
   "execution_count": 22,
   "metadata": {
    "colab": {
     "base_uri": "https://localhost:8080/"
    },
    "id": "_7EcPF7Xqrcw",
    "outputId": "2396eae0-0a0e-4047-d771-17182cf7fa66"
   },
   "outputs": [
    {
     "name": "stdout",
     "output_type": "stream",
     "text": [
      "crime_count\n",
      "2    935842\n",
      "3     66835\n",
      "4      2250\n",
      "5        64\n",
      "Name: count, dtype: int64\n"
     ]
    }
   ],
   "source": [
    "#Simplifying the case of multiple crimes by counting the crimes\n",
    "data['crime_count'] = data[['Crm Cd', 'Crm Cd 1', 'Crm Cd 2', 'Crm Cd 3', 'Crm Cd 4']].notna().sum(axis=1)\n",
    "#Deleting unnecessary columns\n",
    "data=data.drop(columns=[\"DR_NO\",\"Status\",\"Date Rptd\",\"Weapon Used Cd\",\"DATE OCC\",\"AREA NAME\",\"Crm Cd Desc\",\"Premis Desc\",\"Weapon Desc\",\"Status Desc\",\"Cross Street\",\"LOCATION\", 'Crm Cd 1', 'Crm Cd 2', 'Crm Cd 3', 'Crm Cd 4'])\n",
    "print(data['crime_count'].value_counts())\n"
   ]
  },
  {
   "cell_type": "code",
   "execution_count": 24,
   "metadata": {
    "id": "m3x1ps77HWcD"
   },
   "outputs": [],
   "source": [
    "#Handling 0 and negative victim ages by calculating the median of the valid (non-null) values and assigning it to the invalid entriesdata['Vict_Age_Unknown_Flag'] = data['Vict Age'].apply(lambda x: 1 if x == 0 or x < 0 else 0)\n",
    "data['Vict Age'] = data['Vict Age'].replace(0, np.nan)\n",
    "data.loc[data['Vict Age'] < 0, 'Vict Age'] = np.nan\n",
    "median_age = data['Vict Age'].median()\n",
    "data['Vict Age'] = data['Vict Age'].fillna(median_age)\n",
    "#print(data['Vict_Age_Unknown_Flag'].value_counts())"
   ]
  },
  {
   "cell_type": "code",
   "execution_count": 26,
   "metadata": {
    "colab": {
     "base_uri": "https://localhost:8080/",
     "height": 320
    },
    "id": "iDeRNWhr6wSV",
    "outputId": "5fe4bc01-4d52-4532-d8e4-edf039fcc4f0"
   },
   "outputs": [
    {
     "data": {
      "text/html": [
       "<div>\n",
       "<style scoped>\n",
       "    .dataframe tbody tr th:only-of-type {\n",
       "        vertical-align: middle;\n",
       "    }\n",
       "\n",
       "    .dataframe tbody tr th {\n",
       "        vertical-align: top;\n",
       "    }\n",
       "\n",
       "    .dataframe thead th {\n",
       "        text-align: right;\n",
       "    }\n",
       "</style>\n",
       "<table border=\"1\" class=\"dataframe\">\n",
       "  <thead>\n",
       "    <tr style=\"text-align: right;\">\n",
       "      <th></th>\n",
       "      <th>TIME OCC</th>\n",
       "      <th>AREA</th>\n",
       "      <th>Rpt Dist No</th>\n",
       "      <th>Part 1-2</th>\n",
       "      <th>Crm Cd</th>\n",
       "      <th>Vict Age</th>\n",
       "      <th>Premis Cd</th>\n",
       "      <th>LAT</th>\n",
       "      <th>LON</th>\n",
       "      <th>case_status</th>\n",
       "      <th>time_to_report</th>\n",
       "      <th>crime_count</th>\n",
       "    </tr>\n",
       "  </thead>\n",
       "  <tbody>\n",
       "    <tr>\n",
       "      <th>count</th>\n",
       "      <td>1.004991e+06</td>\n",
       "      <td>1.004991e+06</td>\n",
       "      <td>1.004991e+06</td>\n",
       "      <td>1.004991e+06</td>\n",
       "      <td>1.004991e+06</td>\n",
       "      <td>1.004991e+06</td>\n",
       "      <td>1.004975e+06</td>\n",
       "      <td>1.004991e+06</td>\n",
       "      <td>1.004991e+06</td>\n",
       "      <td>1.004991e+06</td>\n",
       "      <td>1.004991e+06</td>\n",
       "      <td>1.004991e+06</td>\n",
       "    </tr>\n",
       "    <tr>\n",
       "      <th>mean</th>\n",
       "      <td>1.339900e+03</td>\n",
       "      <td>1.069174e+01</td>\n",
       "      <td>1.115633e+03</td>\n",
       "      <td>1.400348e+00</td>\n",
       "      <td>5.001568e+02</td>\n",
       "      <td>3.883403e+01</td>\n",
       "      <td>3.056201e+02</td>\n",
       "      <td>3.399821e+01</td>\n",
       "      <td>-1.180909e+02</td>\n",
       "      <td>3.122446e-01</td>\n",
       "      <td>2.922026e+02</td>\n",
       "      <td>2.071172e+00</td>\n",
       "    </tr>\n",
       "    <tr>\n",
       "      <th>std</th>\n",
       "      <td>6.510613e+02</td>\n",
       "      <td>6.110255e+00</td>\n",
       "      <td>6.111605e+02</td>\n",
       "      <td>4.899691e-01</td>\n",
       "      <td>2.052731e+02</td>\n",
       "      <td>1.336841e+01</td>\n",
       "      <td>2.193021e+02</td>\n",
       "      <td>1.610713e+00</td>\n",
       "      <td>5.582386e+00</td>\n",
       "      <td>6.610606e-01</td>\n",
       "      <td>1.659844e+03</td>\n",
       "      <td>2.663948e-01</td>\n",
       "    </tr>\n",
       "    <tr>\n",
       "      <th>min</th>\n",
       "      <td>1.000000e+00</td>\n",
       "      <td>1.000000e+00</td>\n",
       "      <td>1.010000e+02</td>\n",
       "      <td>1.000000e+00</td>\n",
       "      <td>1.100000e+02</td>\n",
       "      <td>2.000000e+00</td>\n",
       "      <td>1.010000e+02</td>\n",
       "      <td>0.000000e+00</td>\n",
       "      <td>-1.186676e+02</td>\n",
       "      <td>0.000000e+00</td>\n",
       "      <td>0.000000e+00</td>\n",
       "      <td>2.000000e+00</td>\n",
       "    </tr>\n",
       "    <tr>\n",
       "      <th>25%</th>\n",
       "      <td>9.000000e+02</td>\n",
       "      <td>5.000000e+00</td>\n",
       "      <td>5.870000e+02</td>\n",
       "      <td>1.000000e+00</td>\n",
       "      <td>3.310000e+02</td>\n",
       "      <td>3.100000e+01</td>\n",
       "      <td>1.010000e+02</td>\n",
       "      <td>3.401470e+01</td>\n",
       "      <td>-1.184305e+02</td>\n",
       "      <td>0.000000e+00</td>\n",
       "      <td>0.000000e+00</td>\n",
       "      <td>2.000000e+00</td>\n",
       "    </tr>\n",
       "    <tr>\n",
       "      <th>50%</th>\n",
       "      <td>1.420000e+03</td>\n",
       "      <td>1.100000e+01</td>\n",
       "      <td>1.139000e+03</td>\n",
       "      <td>1.000000e+00</td>\n",
       "      <td>4.420000e+02</td>\n",
       "      <td>3.700000e+01</td>\n",
       "      <td>2.030000e+02</td>\n",
       "      <td>3.405890e+01</td>\n",
       "      <td>-1.183225e+02</td>\n",
       "      <td>0.000000e+00</td>\n",
       "      <td>2.400000e+01</td>\n",
       "      <td>2.000000e+00</td>\n",
       "    </tr>\n",
       "    <tr>\n",
       "      <th>75%</th>\n",
       "      <td>1.900000e+03</td>\n",
       "      <td>1.600000e+01</td>\n",
       "      <td>1.613000e+03</td>\n",
       "      <td>2.000000e+00</td>\n",
       "      <td>6.260000e+02</td>\n",
       "      <td>4.400000e+01</td>\n",
       "      <td>5.010000e+02</td>\n",
       "      <td>3.416490e+01</td>\n",
       "      <td>-1.182739e+02</td>\n",
       "      <td>0.000000e+00</td>\n",
       "      <td>4.800000e+01</td>\n",
       "      <td>2.000000e+00</td>\n",
       "    </tr>\n",
       "    <tr>\n",
       "      <th>max</th>\n",
       "      <td>2.359000e+03</td>\n",
       "      <td>2.100000e+01</td>\n",
       "      <td>2.199000e+03</td>\n",
       "      <td>2.000000e+00</td>\n",
       "      <td>9.560000e+02</td>\n",
       "      <td>1.200000e+02</td>\n",
       "      <td>9.760000e+02</td>\n",
       "      <td>3.433430e+01</td>\n",
       "      <td>0.000000e+00</td>\n",
       "      <td>2.000000e+00</td>\n",
       "      <td>4.468800e+04</td>\n",
       "      <td>5.000000e+00</td>\n",
       "    </tr>\n",
       "  </tbody>\n",
       "</table>\n",
       "</div>"
      ],
      "text/plain": [
       "           TIME OCC          AREA   Rpt Dist No      Part 1-2        Crm Cd  \\\n",
       "count  1.004991e+06  1.004991e+06  1.004991e+06  1.004991e+06  1.004991e+06   \n",
       "mean   1.339900e+03  1.069174e+01  1.115633e+03  1.400348e+00  5.001568e+02   \n",
       "std    6.510613e+02  6.110255e+00  6.111605e+02  4.899691e-01  2.052731e+02   \n",
       "min    1.000000e+00  1.000000e+00  1.010000e+02  1.000000e+00  1.100000e+02   \n",
       "25%    9.000000e+02  5.000000e+00  5.870000e+02  1.000000e+00  3.310000e+02   \n",
       "50%    1.420000e+03  1.100000e+01  1.139000e+03  1.000000e+00  4.420000e+02   \n",
       "75%    1.900000e+03  1.600000e+01  1.613000e+03  2.000000e+00  6.260000e+02   \n",
       "max    2.359000e+03  2.100000e+01  2.199000e+03  2.000000e+00  9.560000e+02   \n",
       "\n",
       "           Vict Age     Premis Cd           LAT           LON   case_status  \\\n",
       "count  1.004991e+06  1.004975e+06  1.004991e+06  1.004991e+06  1.004991e+06   \n",
       "mean   3.883403e+01  3.056201e+02  3.399821e+01 -1.180909e+02  3.122446e-01   \n",
       "std    1.336841e+01  2.193021e+02  1.610713e+00  5.582386e+00  6.610606e-01   \n",
       "min    2.000000e+00  1.010000e+02  0.000000e+00 -1.186676e+02  0.000000e+00   \n",
       "25%    3.100000e+01  1.010000e+02  3.401470e+01 -1.184305e+02  0.000000e+00   \n",
       "50%    3.700000e+01  2.030000e+02  3.405890e+01 -1.183225e+02  0.000000e+00   \n",
       "75%    4.400000e+01  5.010000e+02  3.416490e+01 -1.182739e+02  0.000000e+00   \n",
       "max    1.200000e+02  9.760000e+02  3.433430e+01  0.000000e+00  2.000000e+00   \n",
       "\n",
       "       time_to_report   crime_count  \n",
       "count    1.004991e+06  1.004991e+06  \n",
       "mean     2.922026e+02  2.071172e+00  \n",
       "std      1.659844e+03  2.663948e-01  \n",
       "min      0.000000e+00  2.000000e+00  \n",
       "25%      0.000000e+00  2.000000e+00  \n",
       "50%      2.400000e+01  2.000000e+00  \n",
       "75%      4.800000e+01  2.000000e+00  \n",
       "max      4.468800e+04  5.000000e+00  "
      ]
     },
     "execution_count": 26,
     "metadata": {},
     "output_type": "execute_result"
    }
   ],
   "source": [
    "data.isnull().sum()\n",
    "data.describe()"
   ]
  },
  {
   "cell_type": "code",
   "execution_count": 28,
   "metadata": {
    "colab": {
     "base_uri": "https://localhost:8080/"
    },
    "id": "gRwh11VRGKGp",
    "outputId": "9d812482-c25f-4fd9-dd74-a3714b44d33e"
   },
   "outputs": [
    {
     "name": "stdout",
     "output_type": "stream",
     "text": [
      "[[  0   0   0 ...   0   0  39]\n",
      " [  5  15  10 ...  44  78  64]\n",
      " [  0   0   0 ...   0   0  39]\n",
      " ...\n",
      " [  0   0   0 ...   0   0   0]\n",
      " [  0   0   0 ...  61   1  86]\n",
      " [  0   0   0 ...  73 160   3]]\n"
     ]
    }
   ],
   "source": [
    "# Preprocess the Mocodes column\n",
    "# Mocodes: Modus Operandi codes describing crime methodology\n",
    "# Format: space-separated numeric codes (e.g., \"0344 1822\")\n",
    "# Contains details about tools, methods, suspect behavior\n",
    "# Multiple codes indicate complex crime circumstances\n",
    "mocode_series = data['Mocodes'].fillna('')\n",
    "data=data.drop(columns=[\"Mocodes\"])\n",
    "tokenizer = Tokenizer()\n",
    "tokenizer.fit_on_texts(mocode_series) # Learn the vocabulary from ALL data\n",
    "sequences = tokenizer.texts_to_sequences(mocode_series)\n",
    "# Converts variable-length MO code strings to fixed-length numerical sequences via padding/truncation\n",
    "# Learns semantic relationships between codes through embedding layer before combining with other features\n",
    "lengths = [len(seq) for seq in sequences]\n",
    "max_len = int(np.percentile(lengths, 95)) # Pad to the 95th percentile length\n",
    "mocode_padded = pad_sequences(sequences, maxlen=max_len, padding='pre', truncating='post')\n",
    "print(mocode_padded)\n",
    "# We will keep this 'mocode_padded' array to use later as a model input."
   ]
  },
  {
   "cell_type": "code",
   "execution_count": 30,
   "metadata": {
    "id": "RFaaxP9HAXJy"
   },
   "outputs": [],
   "source": [
    "#FEATURE ENGENERING FOR THE CULUMS WITH MUSTIPLE STRING VALUES\n",
    "data = pd.get_dummies(data, columns=['Vict Sex', 'Vict Descent', 'Premis Cd'], prefix_sep='_')\n"
   ]
  },
  {
   "cell_type": "code",
   "execution_count": 32,
   "metadata": {
    "id": "365XBW02eSg6"
   },
   "outputs": [],
   "source": [
    "# CLUSTERING AND COMBINING THE LAT AND LOT IN ONE COLUMN\n",
    "\n",
    "coords = data[['LAT', 'LON']].copy()\n",
    "\n",
    "imputer = SimpleImputer(strategy='median')\n",
    "coords_imputed = imputer.fit_transform(coords)\n",
    "# Now perform clustering on the imputed coordinates\n",
    "kmeans = KMeans(n_clusters=50, random_state=42, n_init=10)\n",
    "data['location_cluster'] = kmeans.fit_predict(coords_imputed)\n",
    "data.drop(columns=['LAT', 'LON'], inplace=True)"
   ]
  },
  {
   "cell_type": "code",
   "execution_count": 36,
   "metadata": {
    "colab": {
     "base_uri": "https://localhost:8080/"
    },
    "id": "SWFUtjQkvek7",
    "outputId": "5b2a1f04-6a68-4db9-b7b2-9ee6673c2f88"
   },
   "outputs": [
    {
     "name": "stdout",
     "output_type": "stream",
     "text": [
      "Columns: ['TIME OCC', 'AREA', 'Rpt Dist No', 'Part 1-2', 'Crm Cd', 'Vict Age', 'case_status', 'time_to_report', 'crime_count', 'Vict Sex_-', 'Vict Sex_F', 'Vict Sex_H', 'Vict Sex_M', 'Vict Sex_X', 'Vict Descent_-', 'Vict Descent_A', 'Vict Descent_B', 'Vict Descent_C', 'Vict Descent_D', 'Vict Descent_F', 'Vict Descent_G', 'Vict Descent_H', 'Vict Descent_I', 'Vict Descent_J', 'Vict Descent_K', 'Vict Descent_L', 'Vict Descent_O', 'Vict Descent_P', 'Vict Descent_S', 'Vict Descent_U', 'Vict Descent_V', 'Vict Descent_W', 'Vict Descent_X', 'Vict Descent_Z', 'Premis Cd_101.0', 'Premis Cd_102.0', 'Premis Cd_103.0', 'Premis Cd_104.0', 'Premis Cd_105.0', 'Premis Cd_106.0', 'Premis Cd_107.0', 'Premis Cd_108.0', 'Premis Cd_109.0', 'Premis Cd_110.0', 'Premis Cd_111.0', 'Premis Cd_112.0', 'Premis Cd_113.0', 'Premis Cd_114.0', 'Premis Cd_115.0', 'Premis Cd_116.0', 'Premis Cd_117.0', 'Premis Cd_118.0', 'Premis Cd_119.0', 'Premis Cd_120.0', 'Premis Cd_121.0', 'Premis Cd_122.0', 'Premis Cd_123.0', 'Premis Cd_124.0', 'Premis Cd_125.0', 'Premis Cd_126.0', 'Premis Cd_127.0', 'Premis Cd_128.0', 'Premis Cd_129.0', 'Premis Cd_135.0', 'Premis Cd_136.0', 'Premis Cd_137.0', 'Premis Cd_138.0', 'Premis Cd_139.0', 'Premis Cd_140.0', 'Premis Cd_141.0', 'Premis Cd_142.0', 'Premis Cd_143.0', 'Premis Cd_144.0', 'Premis Cd_145.0', 'Premis Cd_146.0', 'Premis Cd_147.0', 'Premis Cd_148.0', 'Premis Cd_149.0', 'Premis Cd_150.0', 'Premis Cd_151.0', 'Premis Cd_152.0', 'Premis Cd_154.0', 'Premis Cd_155.0', 'Premis Cd_156.0', 'Premis Cd_157.0', 'Premis Cd_158.0', 'Premis Cd_201.0', 'Premis Cd_202.0', 'Premis Cd_203.0', 'Premis Cd_204.0', 'Premis Cd_205.0', 'Premis Cd_206.0', 'Premis Cd_207.0', 'Premis Cd_208.0', 'Premis Cd_209.0', 'Premis Cd_210.0', 'Premis Cd_211.0', 'Premis Cd_212.0', 'Premis Cd_213.0', 'Premis Cd_214.0', 'Premis Cd_215.0', 'Premis Cd_216.0', 'Premis Cd_217.0', 'Premis Cd_218.0', 'Premis Cd_219.0', 'Premis Cd_220.0', 'Premis Cd_221.0', 'Premis Cd_222.0', 'Premis Cd_223.0', 'Premis Cd_224.0', 'Premis Cd_225.0', 'Premis Cd_227.0', 'Premis Cd_228.0', 'Premis Cd_229.0', 'Premis Cd_230.0', 'Premis Cd_231.0', 'Premis Cd_232.0', 'Premis Cd_233.0', 'Premis Cd_234.0', 'Premis Cd_235.0', 'Premis Cd_236.0', 'Premis Cd_237.0', 'Premis Cd_238.0', 'Premis Cd_239.0', 'Premis Cd_240.0', 'Premis Cd_241.0', 'Premis Cd_242.0', 'Premis Cd_243.0', 'Premis Cd_244.0', 'Premis Cd_245.0', 'Premis Cd_246.0', 'Premis Cd_247.0', 'Premis Cd_248.0', 'Premis Cd_249.0', 'Premis Cd_250.0', 'Premis Cd_251.0', 'Premis Cd_252.0', 'Premis Cd_253.0', 'Premis Cd_254.0', 'Premis Cd_255.0', 'Premis Cd_256.0', 'Premis Cd_301.0', 'Premis Cd_302.0', 'Premis Cd_303.0', 'Premis Cd_304.0', 'Premis Cd_305.0', 'Premis Cd_401.0', 'Premis Cd_402.0', 'Premis Cd_403.0', 'Premis Cd_404.0', 'Premis Cd_405.0', 'Premis Cd_406.0', 'Premis Cd_407.0', 'Premis Cd_408.0', 'Premis Cd_409.0', 'Premis Cd_410.0', 'Premis Cd_411.0', 'Premis Cd_412.0', 'Premis Cd_413.0', 'Premis Cd_414.0', 'Premis Cd_415.0', 'Premis Cd_416.0', 'Premis Cd_417.0', 'Premis Cd_418.0', 'Premis Cd_501.0', 'Premis Cd_502.0', 'Premis Cd_503.0', 'Premis Cd_504.0', 'Premis Cd_505.0', 'Premis Cd_506.0', 'Premis Cd_507.0', 'Premis Cd_508.0', 'Premis Cd_509.0', 'Premis Cd_510.0', 'Premis Cd_511.0', 'Premis Cd_512.0', 'Premis Cd_513.0', 'Premis Cd_514.0', 'Premis Cd_515.0', 'Premis Cd_516.0', 'Premis Cd_517.0', 'Premis Cd_518.0', 'Premis Cd_519.0', 'Premis Cd_601.0', 'Premis Cd_602.0', 'Premis Cd_603.0', 'Premis Cd_604.0', 'Premis Cd_605.0', 'Premis Cd_606.0', 'Premis Cd_607.0', 'Premis Cd_608.0', 'Premis Cd_701.0', 'Premis Cd_702.0', 'Premis Cd_703.0', 'Premis Cd_704.0', 'Premis Cd_705.0', 'Premis Cd_706.0', 'Premis Cd_707.0', 'Premis Cd_708.0', 'Premis Cd_709.0', 'Premis Cd_710.0', 'Premis Cd_711.0', 'Premis Cd_712.0', 'Premis Cd_713.0', 'Premis Cd_714.0', 'Premis Cd_715.0', 'Premis Cd_716.0', 'Premis Cd_717.0', 'Premis Cd_718.0', 'Premis Cd_719.0', 'Premis Cd_720.0', 'Premis Cd_721.0', 'Premis Cd_722.0', 'Premis Cd_723.0', 'Premis Cd_724.0', 'Premis Cd_725.0', 'Premis Cd_726.0', 'Premis Cd_727.0', 'Premis Cd_728.0', 'Premis Cd_729.0', 'Premis Cd_730.0', 'Premis Cd_731.0', 'Premis Cd_732.0', 'Premis Cd_733.0', 'Premis Cd_734.0', 'Premis Cd_735.0', 'Premis Cd_736.0', 'Premis Cd_737.0', 'Premis Cd_738.0', 'Premis Cd_739.0', 'Premis Cd_740.0', 'Premis Cd_741.0', 'Premis Cd_742.0', 'Premis Cd_743.0', 'Premis Cd_744.0', 'Premis Cd_745.0', 'Premis Cd_746.0', 'Premis Cd_748.0', 'Premis Cd_750.0', 'Premis Cd_751.0', 'Premis Cd_752.0', 'Premis Cd_753.0', 'Premis Cd_754.0', 'Premis Cd_755.0', 'Premis Cd_756.0', 'Premis Cd_757.0', 'Premis Cd_758.0', 'Premis Cd_801.0', 'Premis Cd_802.0', 'Premis Cd_803.0', 'Premis Cd_804.0', 'Premis Cd_805.0', 'Premis Cd_809.0', 'Premis Cd_810.0', 'Premis Cd_811.0', 'Premis Cd_834.0', 'Premis Cd_835.0', 'Premis Cd_836.0', 'Premis Cd_868.0', 'Premis Cd_869.0', 'Premis Cd_870.0', 'Premis Cd_871.0', 'Premis Cd_872.0', 'Premis Cd_873.0', 'Premis Cd_874.0', 'Premis Cd_875.0', 'Premis Cd_876.0', 'Premis Cd_877.0', 'Premis Cd_878.0', 'Premis Cd_879.0', 'Premis Cd_880.0', 'Premis Cd_882.0', 'Premis Cd_883.0', 'Premis Cd_884.0', 'Premis Cd_885.0', 'Premis Cd_889.0', 'Premis Cd_890.0', 'Premis Cd_891.0', 'Premis Cd_892.0', 'Premis Cd_893.0', 'Premis Cd_894.0', 'Premis Cd_895.0', 'Premis Cd_896.0', 'Premis Cd_897.0', 'Premis Cd_898.0', 'Premis Cd_900.0', 'Premis Cd_901.0', 'Premis Cd_902.0', 'Premis Cd_903.0', 'Premis Cd_904.0', 'Premis Cd_905.0', 'Premis Cd_906.0', 'Premis Cd_907.0', 'Premis Cd_908.0', 'Premis Cd_909.0', 'Premis Cd_910.0', 'Premis Cd_911.0', 'Premis Cd_912.0', 'Premis Cd_913.0', 'Premis Cd_915.0', 'Premis Cd_916.0', 'Premis Cd_917.0', 'Premis Cd_918.0', 'Premis Cd_919.0', 'Premis Cd_920.0', 'Premis Cd_921.0', 'Premis Cd_922.0', 'Premis Cd_931.0', 'Premis Cd_932.0', 'Premis Cd_933.0', 'Premis Cd_934.0', 'Premis Cd_935.0', 'Premis Cd_936.0', 'Premis Cd_937.0', 'Premis Cd_940.0', 'Premis Cd_941.0', 'Premis Cd_942.0', 'Premis Cd_943.0', 'Premis Cd_944.0', 'Premis Cd_945.0', 'Premis Cd_946.0', 'Premis Cd_947.0', 'Premis Cd_948.0', 'Premis Cd_949.0', 'Premis Cd_950.0', 'Premis Cd_951.0', 'Premis Cd_952.0', 'Premis Cd_953.0', 'Premis Cd_954.0', 'Premis Cd_956.0', 'Premis Cd_957.0', 'Premis Cd_958.0', 'Premis Cd_961.0', 'Premis Cd_962.0', 'Premis Cd_963.0', 'Premis Cd_964.0', 'Premis Cd_965.0', 'Premis Cd_966.0', 'Premis Cd_967.0', 'Premis Cd_968.0', 'Premis Cd_969.0', 'Premis Cd_970.0', 'Premis Cd_971.0', 'Premis Cd_972.0', 'Premis Cd_973.0', 'Premis Cd_974.0', 'Premis Cd_975.0', 'Premis Cd_976.0', 'location_cluster']\n"
     ]
    }
   ],
   "source": [
    "#save the new processed data\n",
    "print(\"Columns:\", data.columns.tolist())\n",
    "data.to_csv(\"data/proccessed_data.csv\")"
   ]
  },
  {
   "cell_type": "markdown",
   "metadata": {
    "id": "-PVRFyyyHdAU"
   },
   "source": [
    "# Final Preparation"
   ]
  },
  {
   "cell_type": "code",
   "execution_count": 37,
   "metadata": {
    "colab": {
     "base_uri": "https://localhost:8080/"
    },
    "id": "gawWAMXjrYCo",
    "outputId": "79b91992-dd7e-464e-9cbb-9f6c2f2c5294"
   },
   "outputs": [
    {
     "name": "stdout",
     "output_type": "stream",
     "text": [
      "Creating MO code embeddings for the entire dataset...\n"
     ]
    },
    {
     "name": "stderr",
     "output_type": "stream",
     "text": [
      "C:\\Users\\lenovo\\anaconda3\\Lib\\site-packages\\keras\\src\\layers\\core\\embedding.py:90: UserWarning: Argument `input_length` is deprecated. Just remove it.\n",
      "  warnings.warn(\n"
     ]
    },
    {
     "name": "stdout",
     "output_type": "stream",
     "text": [
      "\u001b[1m982/982\u001b[0m \u001b[32m━━━━━━━━━━━━━━━━━━━━\u001b[0m\u001b[37m\u001b[0m \u001b[1m1s\u001b[0m 1ms/step\n",
      "Added 70 MO embedding columns to DataFrame\n",
      "New DataFrame shape: (1004991, 419)\n"
     ]
    }
   ],
   "source": [
    "print(\"Creating MO code embeddings for the entire dataset...\")\n",
    "vocab_size = len(tokenizer.word_index) + 1\n",
    "\n",
    "# here we going to use the mocode_padded we processed earlier\n",
    "# Learns semantic relationships between codes through embedding layer before combining with other features\n",
    "mocode_input = Input(shape=(max_len,), name='mocode_input')\n",
    "embedding_layer = Embedding(input_dim=vocab_size, output_dim=10, input_length=max_len)(mocode_input)\n",
    "flatten_layer = Flatten()(embedding_layer)\n",
    "embedding_model = Model(inputs=mocode_input, outputs=flatten_layer)\n",
    "mo_embeddings = embedding_model.predict(mocode_padded, verbose=1, batch_size=1024)\n",
    "\n",
    "# Add these embeddings as new columns to your main DataFrame\n",
    "\n",
    "for i in range(mo_embeddings.shape[1]):\n",
    "    data[f'mo_embedding_{i}'] = mo_embeddings[:, i]\n",
    "\n",
    "print(f\"Added {mo_embeddings.shape[1]} MO embedding columns to DataFrame\")\n",
    "print(\"New DataFrame shape:\", data.shape)\n"
   ]
  },
  {
   "cell_type": "markdown",
   "metadata": {
    "id": "r84EvRdSvek8"
   },
   "source": [
    "# Train-Test Split"
   ]
  },
  {
   "cell_type": "code",
   "execution_count": 40,
   "metadata": {
    "id": "AEy7oawgvek8"
   },
   "outputs": [],
   "source": [
    "y = data['case_status']\n",
    "X = data.drop(columns=['case_status'])\n",
    "\n",
    "X_train, X_test, y_train, y_test = train_test_split(\n",
    "    X, y, test_size=0.2, random_state=42, stratify=y\n",
    ")\n",
    "\n",
    "X_train_mo = mocode_padded[X_train.index]\n",
    "X_test_mo = mocode_padded[X_test.index]"
   ]
  },
  {
   "cell_type": "markdown",
   "metadata": {
    "id": "UJEZ_0oKvek8"
   },
   "source": [
    "# Model Building & Training"
   ]
  },
  {
   "cell_type": "code",
   "execution_count": 42,
   "metadata": {
    "colab": {
     "base_uri": "https://localhost:8080/"
    },
    "id": "A2AssvNkNflQ",
    "outputId": "21bd3562-b23d-4952-d1bf-dbb5ccdc1f82"
   },
   "outputs": [
    {
     "name": "stdout",
     "output_type": "stream",
     "text": [
      "Class weights: {0: 0.417250251961459, 1: 3.704025172879263, 2: 2.9995784132669243}\n"
     ]
    }
   ],
   "source": [
    "# we handle the class embalence by calculating the weights\n",
    "classes = np.unique(y_train)\n",
    "weights = compute_class_weight(class_weight='balanced', classes=classes, y=y_train)\n",
    "class_weights_dict = dict(zip(classes, weights))\n",
    "print(\"Class weights:\", class_weights_dict)"
   ]
  },
  {
   "cell_type": "markdown",
   "metadata": {
    "id": "BjLWBmVnGpYP"
   },
   "source": [
    "## Strategie 1 :"
   ]
  },
  {
   "cell_type": "code",
   "execution_count": 44,
   "metadata": {
    "colab": {
     "base_uri": "https://localhost:8080/",
     "height": 254
    },
    "id": "VhCEcXFEvek9",
    "outputId": "dac9a81b-e7e1-44cc-c31a-f956b054d3e7"
   },
   "outputs": [
    {
     "data": {
      "text/html": [
       "<style>#sk-container-id-1 {color: black;}#sk-container-id-1 pre{padding: 0;}#sk-container-id-1 div.sk-toggleable {background-color: white;}#sk-container-id-1 label.sk-toggleable__label {cursor: pointer;display: block;width: 100%;margin-bottom: 0;padding: 0.3em;box-sizing: border-box;text-align: center;}#sk-container-id-1 label.sk-toggleable__label-arrow:before {content: \"▸\";float: left;margin-right: 0.25em;color: #696969;}#sk-container-id-1 label.sk-toggleable__label-arrow:hover:before {color: black;}#sk-container-id-1 div.sk-estimator:hover label.sk-toggleable__label-arrow:before {color: black;}#sk-container-id-1 div.sk-toggleable__content {max-height: 0;max-width: 0;overflow: hidden;text-align: left;background-color: #f0f8ff;}#sk-container-id-1 div.sk-toggleable__content pre {margin: 0.2em;color: black;border-radius: 0.25em;background-color: #f0f8ff;}#sk-container-id-1 input.sk-toggleable__control:checked~div.sk-toggleable__content {max-height: 200px;max-width: 100%;overflow: auto;}#sk-container-id-1 input.sk-toggleable__control:checked~label.sk-toggleable__label-arrow:before {content: \"▾\";}#sk-container-id-1 div.sk-estimator input.sk-toggleable__control:checked~label.sk-toggleable__label {background-color: #d4ebff;}#sk-container-id-1 div.sk-label input.sk-toggleable__control:checked~label.sk-toggleable__label {background-color: #d4ebff;}#sk-container-id-1 input.sk-hidden--visually {border: 0;clip: rect(1px 1px 1px 1px);clip: rect(1px, 1px, 1px, 1px);height: 1px;margin: -1px;overflow: hidden;padding: 0;position: absolute;width: 1px;}#sk-container-id-1 div.sk-estimator {font-family: monospace;background-color: #f0f8ff;border: 1px dotted black;border-radius: 0.25em;box-sizing: border-box;margin-bottom: 0.5em;}#sk-container-id-1 div.sk-estimator:hover {background-color: #d4ebff;}#sk-container-id-1 div.sk-parallel-item::after {content: \"\";width: 100%;border-bottom: 1px solid gray;flex-grow: 1;}#sk-container-id-1 div.sk-label:hover label.sk-toggleable__label {background-color: #d4ebff;}#sk-container-id-1 div.sk-serial::before {content: \"\";position: absolute;border-left: 1px solid gray;box-sizing: border-box;top: 0;bottom: 0;left: 50%;z-index: 0;}#sk-container-id-1 div.sk-serial {display: flex;flex-direction: column;align-items: center;background-color: white;padding-right: 0.2em;padding-left: 0.2em;position: relative;}#sk-container-id-1 div.sk-item {position: relative;z-index: 1;}#sk-container-id-1 div.sk-parallel {display: flex;align-items: stretch;justify-content: center;background-color: white;position: relative;}#sk-container-id-1 div.sk-item::before, #sk-container-id-1 div.sk-parallel-item::before {content: \"\";position: absolute;border-left: 1px solid gray;box-sizing: border-box;top: 0;bottom: 0;left: 50%;z-index: -1;}#sk-container-id-1 div.sk-parallel-item {display: flex;flex-direction: column;z-index: 1;position: relative;background-color: white;}#sk-container-id-1 div.sk-parallel-item:first-child::after {align-self: flex-end;width: 50%;}#sk-container-id-1 div.sk-parallel-item:last-child::after {align-self: flex-start;width: 50%;}#sk-container-id-1 div.sk-parallel-item:only-child::after {width: 0;}#sk-container-id-1 div.sk-dashed-wrapped {border: 1px dashed gray;margin: 0 0.4em 0.5em 0.4em;box-sizing: border-box;padding-bottom: 0.4em;background-color: white;}#sk-container-id-1 div.sk-label label {font-family: monospace;font-weight: bold;display: inline-block;line-height: 1.2em;}#sk-container-id-1 div.sk-label-container {text-align: center;}#sk-container-id-1 div.sk-container {/* jupyter's `normalize.less` sets `[hidden] { display: none; }` but bootstrap.min.css set `[hidden] { display: none !important; }` so we also need the `!important` here to be able to override the default hidden behavior on the sphinx rendered scikit-learn.org. See: https://github.com/scikit-learn/scikit-learn/issues/21755 */display: inline-block !important;position: relative;}#sk-container-id-1 div.sk-text-repr-fallback {display: none;}</style><div id=\"sk-container-id-1\" class=\"sk-top-container\"><div class=\"sk-text-repr-fallback\"><pre>XGBClassifier(base_score=None, booster=None, callbacks=None,\n",
       "              colsample_bylevel=None, colsample_bynode=None,\n",
       "              colsample_bytree=0.8, device=None, early_stopping_rounds=None,\n",
       "              enable_categorical=False, eval_metric=None, feature_types=None,\n",
       "              feature_weights=None, gamma=None, grow_policy=None,\n",
       "              importance_type=None, interaction_constraints=None,\n",
       "              learning_rate=0.1, max_bin=None, max_cat_threshold=None,\n",
       "              max_cat_to_onehot=None, max_delta_step=None, max_depth=6,\n",
       "              max_leaves=None, min_child_weight=None, missing=nan,\n",
       "              monotone_constraints=None, multi_strategy=None, n_estimators=100,\n",
       "              n_jobs=None, num_parallel_tree=None, ...)</pre><b>In a Jupyter environment, please rerun this cell to show the HTML representation or trust the notebook. <br />On GitHub, the HTML representation is unable to render, please try loading this page with nbviewer.org.</b></div><div class=\"sk-container\" hidden><div class=\"sk-item\"><div class=\"sk-estimator sk-toggleable\"><input class=\"sk-toggleable__control sk-hidden--visually\" id=\"sk-estimator-id-1\" type=\"checkbox\" checked><label for=\"sk-estimator-id-1\" class=\"sk-toggleable__label sk-toggleable__label-arrow\">XGBClassifier</label><div class=\"sk-toggleable__content\"><pre>XGBClassifier(base_score=None, booster=None, callbacks=None,\n",
       "              colsample_bylevel=None, colsample_bynode=None,\n",
       "              colsample_bytree=0.8, device=None, early_stopping_rounds=None,\n",
       "              enable_categorical=False, eval_metric=None, feature_types=None,\n",
       "              feature_weights=None, gamma=None, grow_policy=None,\n",
       "              importance_type=None, interaction_constraints=None,\n",
       "              learning_rate=0.1, max_bin=None, max_cat_threshold=None,\n",
       "              max_cat_to_onehot=None, max_delta_step=None, max_depth=6,\n",
       "              max_leaves=None, min_child_weight=None, missing=nan,\n",
       "              monotone_constraints=None, multi_strategy=None, n_estimators=100,\n",
       "              n_jobs=None, num_parallel_tree=None, ...)</pre></div></div></div></div></div>"
      ],
      "text/plain": [
       "XGBClassifier(base_score=None, booster=None, callbacks=None,\n",
       "              colsample_bylevel=None, colsample_bynode=None,\n",
       "              colsample_bytree=0.8, device=None, early_stopping_rounds=None,\n",
       "              enable_categorical=False, eval_metric=None, feature_types=None,\n",
       "              feature_weights=None, gamma=None, grow_policy=None,\n",
       "              importance_type=None, interaction_constraints=None,\n",
       "              learning_rate=0.1, max_bin=None, max_cat_threshold=None,\n",
       "              max_cat_to_onehot=None, max_delta_step=None, max_depth=6,\n",
       "              max_leaves=None, min_child_weight=None, missing=nan,\n",
       "              monotone_constraints=None, multi_strategy=None, n_estimators=100,\n",
       "              n_jobs=None, num_parallel_tree=None, ...)"
      ]
     },
     "execution_count": 44,
     "metadata": {},
     "output_type": "execute_result"
    }
   ],
   "source": [
    "xgb_model = XGBClassifier(\n",
    "    random_state=42,\n",
    "    n_estimators=100,\n",
    "    max_depth=6,\n",
    "    learning_rate=0.1,\n",
    "    subsample=0.8,\n",
    "    colsample_bytree=0.8\n",
    ")\n",
    "\n",
    "# Create sample weights\n",
    "sample_weights = np.array([class_weights_dict[label] for label in y_train])\n",
    "\n",
    "xgb_model.fit(X_train, y_train, sample_weight=sample_weights)"
   ]
  },
  {
   "cell_type": "markdown",
   "metadata": {
    "id": "43W015IJvek9"
   },
   "source": [
    "## Strategie 2 :"
   ]
  },
  {
   "cell_type": "code",
   "execution_count": 46,
   "metadata": {
    "colab": {
     "base_uri": "https://localhost:8080/",
     "height": 343
    },
    "id": "HmaZyGlYz1SY",
    "outputId": "b811f9ae-eba3-4295-ae1f-7e8d66cd8b19"
   },
   "outputs": [
    {
     "name": "stderr",
     "output_type": "stream",
     "text": [
      "C:\\Users\\lenovo\\anaconda3\\Lib\\site-packages\\xgboost\\training.py:183: UserWarning: [15:37:25] WARNING: C:\\actions-runner\\_work\\xgboost\\xgboost\\src\\learner.cc:738: \n",
      "Parameters: { \"scale_pos_weight\" } are not used.\n",
      "\n",
      "  bst.update(dtrain, iteration=i, fobj=obj)\n"
     ]
    },
    {
     "data": {
      "text/html": [
       "<style>#sk-container-id-2 {color: black;}#sk-container-id-2 pre{padding: 0;}#sk-container-id-2 div.sk-toggleable {background-color: white;}#sk-container-id-2 label.sk-toggleable__label {cursor: pointer;display: block;width: 100%;margin-bottom: 0;padding: 0.3em;box-sizing: border-box;text-align: center;}#sk-container-id-2 label.sk-toggleable__label-arrow:before {content: \"▸\";float: left;margin-right: 0.25em;color: #696969;}#sk-container-id-2 label.sk-toggleable__label-arrow:hover:before {color: black;}#sk-container-id-2 div.sk-estimator:hover label.sk-toggleable__label-arrow:before {color: black;}#sk-container-id-2 div.sk-toggleable__content {max-height: 0;max-width: 0;overflow: hidden;text-align: left;background-color: #f0f8ff;}#sk-container-id-2 div.sk-toggleable__content pre {margin: 0.2em;color: black;border-radius: 0.25em;background-color: #f0f8ff;}#sk-container-id-2 input.sk-toggleable__control:checked~div.sk-toggleable__content {max-height: 200px;max-width: 100%;overflow: auto;}#sk-container-id-2 input.sk-toggleable__control:checked~label.sk-toggleable__label-arrow:before {content: \"▾\";}#sk-container-id-2 div.sk-estimator input.sk-toggleable__control:checked~label.sk-toggleable__label {background-color: #d4ebff;}#sk-container-id-2 div.sk-label input.sk-toggleable__control:checked~label.sk-toggleable__label {background-color: #d4ebff;}#sk-container-id-2 input.sk-hidden--visually {border: 0;clip: rect(1px 1px 1px 1px);clip: rect(1px, 1px, 1px, 1px);height: 1px;margin: -1px;overflow: hidden;padding: 0;position: absolute;width: 1px;}#sk-container-id-2 div.sk-estimator {font-family: monospace;background-color: #f0f8ff;border: 1px dotted black;border-radius: 0.25em;box-sizing: border-box;margin-bottom: 0.5em;}#sk-container-id-2 div.sk-estimator:hover {background-color: #d4ebff;}#sk-container-id-2 div.sk-parallel-item::after {content: \"\";width: 100%;border-bottom: 1px solid gray;flex-grow: 1;}#sk-container-id-2 div.sk-label:hover label.sk-toggleable__label {background-color: #d4ebff;}#sk-container-id-2 div.sk-serial::before {content: \"\";position: absolute;border-left: 1px solid gray;box-sizing: border-box;top: 0;bottom: 0;left: 50%;z-index: 0;}#sk-container-id-2 div.sk-serial {display: flex;flex-direction: column;align-items: center;background-color: white;padding-right: 0.2em;padding-left: 0.2em;position: relative;}#sk-container-id-2 div.sk-item {position: relative;z-index: 1;}#sk-container-id-2 div.sk-parallel {display: flex;align-items: stretch;justify-content: center;background-color: white;position: relative;}#sk-container-id-2 div.sk-item::before, #sk-container-id-2 div.sk-parallel-item::before {content: \"\";position: absolute;border-left: 1px solid gray;box-sizing: border-box;top: 0;bottom: 0;left: 50%;z-index: -1;}#sk-container-id-2 div.sk-parallel-item {display: flex;flex-direction: column;z-index: 1;position: relative;background-color: white;}#sk-container-id-2 div.sk-parallel-item:first-child::after {align-self: flex-end;width: 50%;}#sk-container-id-2 div.sk-parallel-item:last-child::after {align-self: flex-start;width: 50%;}#sk-container-id-2 div.sk-parallel-item:only-child::after {width: 0;}#sk-container-id-2 div.sk-dashed-wrapped {border: 1px dashed gray;margin: 0 0.4em 0.5em 0.4em;box-sizing: border-box;padding-bottom: 0.4em;background-color: white;}#sk-container-id-2 div.sk-label label {font-family: monospace;font-weight: bold;display: inline-block;line-height: 1.2em;}#sk-container-id-2 div.sk-label-container {text-align: center;}#sk-container-id-2 div.sk-container {/* jupyter's `normalize.less` sets `[hidden] { display: none; }` but bootstrap.min.css set `[hidden] { display: none !important; }` so we also need the `!important` here to be able to override the default hidden behavior on the sphinx rendered scikit-learn.org. See: https://github.com/scikit-learn/scikit-learn/issues/21755 */display: inline-block !important;position: relative;}#sk-container-id-2 div.sk-text-repr-fallback {display: none;}</style><div id=\"sk-container-id-2\" class=\"sk-top-container\"><div class=\"sk-text-repr-fallback\"><pre>XGBClassifier(base_score=None, booster=None, callbacks=None,\n",
       "              colsample_bylevel=None, colsample_bynode=None,\n",
       "              colsample_bytree=0.7, device=None, early_stopping_rounds=None,\n",
       "              enable_categorical=False, eval_metric=None, feature_types=None,\n",
       "              feature_weights=None, gamma=None, grow_policy=None,\n",
       "              importance_type=None, interaction_constraints=None,\n",
       "              learning_rate=0.05, max_bin=None, max_cat_threshold=None,\n",
       "              max_cat_to_onehot=None, max_delta_step=None, max_depth=4,\n",
       "              max_leaves=None, min_child_weight=None, missing=nan,\n",
       "              monotone_constraints=None, multi_strategy=None, n_estimators=200,\n",
       "              n_jobs=None, num_parallel_tree=None, ...)</pre><b>In a Jupyter environment, please rerun this cell to show the HTML representation or trust the notebook. <br />On GitHub, the HTML representation is unable to render, please try loading this page with nbviewer.org.</b></div><div class=\"sk-container\" hidden><div class=\"sk-item\"><div class=\"sk-estimator sk-toggleable\"><input class=\"sk-toggleable__control sk-hidden--visually\" id=\"sk-estimator-id-2\" type=\"checkbox\" checked><label for=\"sk-estimator-id-2\" class=\"sk-toggleable__label sk-toggleable__label-arrow\">XGBClassifier</label><div class=\"sk-toggleable__content\"><pre>XGBClassifier(base_score=None, booster=None, callbacks=None,\n",
       "              colsample_bylevel=None, colsample_bynode=None,\n",
       "              colsample_bytree=0.7, device=None, early_stopping_rounds=None,\n",
       "              enable_categorical=False, eval_metric=None, feature_types=None,\n",
       "              feature_weights=None, gamma=None, grow_policy=None,\n",
       "              importance_type=None, interaction_constraints=None,\n",
       "              learning_rate=0.05, max_bin=None, max_cat_threshold=None,\n",
       "              max_cat_to_onehot=None, max_delta_step=None, max_depth=4,\n",
       "              max_leaves=None, min_child_weight=None, missing=nan,\n",
       "              monotone_constraints=None, multi_strategy=None, n_estimators=200,\n",
       "              n_jobs=None, num_parallel_tree=None, ...)</pre></div></div></div></div></div>"
      ],
      "text/plain": [
       "XGBClassifier(base_score=None, booster=None, callbacks=None,\n",
       "              colsample_bylevel=None, colsample_bynode=None,\n",
       "              colsample_bytree=0.7, device=None, early_stopping_rounds=None,\n",
       "              enable_categorical=False, eval_metric=None, feature_types=None,\n",
       "              feature_weights=None, gamma=None, grow_policy=None,\n",
       "              importance_type=None, interaction_constraints=None,\n",
       "              learning_rate=0.05, max_bin=None, max_cat_threshold=None,\n",
       "              max_cat_to_onehot=None, max_delta_step=None, max_depth=4,\n",
       "              max_leaves=None, min_child_weight=None, missing=nan,\n",
       "              monotone_constraints=None, multi_strategy=None, n_estimators=200,\n",
       "              n_jobs=None, num_parallel_tree=None, ...)"
      ]
     },
     "execution_count": 46,
     "metadata": {},
     "output_type": "execute_result"
    }
   ],
   "source": [
    "# Focus on parameters that control overfitting\n",
    "xgb_model_tuned = XGBClassifier(\n",
    "    random_state=42,\n",
    "    n_estimators=200,\n",
    "    max_depth=4,  # Shallower trees to prevent overfitting\n",
    "    learning_rate=0.05,  # Slower learning\n",
    "    subsample=0.7,  # Use less data per tree\n",
    "    colsample_bytree=0.7,  # Use fewer features per tree\n",
    "    scale_pos_weight=class_weights_dict  # Use built-in balancing\n",
    ")\n",
    "# Create sample weights\n",
    "sample_weights = np.array([class_weights_dict[label] for label in y_train])\n",
    "\n",
    "xgb_model_tuned.fit(X_train, y_train, sample_weight=sample_weights)\n",
    "\n"
   ]
  },
  {
   "cell_type": "markdown",
   "metadata": {
    "id": "acT_onrRvek9"
   },
   "source": [
    "## Strategie 3 :"
   ]
  },
  {
   "cell_type": "code",
   "execution_count": 47,
   "metadata": {
    "colab": {
     "base_uri": "https://localhost:8080/",
     "height": 1000
    },
    "id": "xGsRfotJSAfV",
    "outputId": "49f459dc-ee62-4588-b7a3-94fffc6c5ccf"
   },
   "outputs": [
    {
     "name": "stderr",
     "output_type": "stream",
     "text": [
      "C:\\Users\\lenovo\\anaconda3\\Lib\\site-packages\\keras\\src\\layers\\core\\embedding.py:90: UserWarning: Argument `input_length` is deprecated. Just remove it.\n",
      "  warnings.warn(\n"
     ]
    },
    {
     "data": {
      "text/html": [
       "<pre style=\"white-space:pre;overflow-x:auto;line-height:normal;font-family:Menlo,'DejaVu Sans Mono',consolas,'Courier New',monospace\"><span style=\"font-weight: bold\">Model: \"functional_1\"</span>\n",
       "</pre>\n"
      ],
      "text/plain": [
       "\u001b[1mModel: \"functional_1\"\u001b[0m\n"
      ]
     },
     "metadata": {},
     "output_type": "display_data"
    },
    {
     "data": {
      "text/html": [
       "<pre style=\"white-space:pre;overflow-x:auto;line-height:normal;font-family:Menlo,'DejaVu Sans Mono',consolas,'Courier New',monospace\">┏━━━━━━━━━━━━━━━━━━━━━━━━━━━━━━━┳━━━━━━━━━━━━━━━━━━━━━━━━━━━┳━━━━━━━━━━━━━━━━━┳━━━━━━━━━━━━━━━━━━━━━━━━━━━━┓\n",
       "┃<span style=\"font-weight: bold\"> Layer (type)                  </span>┃<span style=\"font-weight: bold\"> Output Shape              </span>┃<span style=\"font-weight: bold\">         Param # </span>┃<span style=\"font-weight: bold\"> Connected to               </span>┃\n",
       "┡━━━━━━━━━━━━━━━━━━━━━━━━━━━━━━━╇━━━━━━━━━━━━━━━━━━━━━━━━━━━╇━━━━━━━━━━━━━━━━━╇━━━━━━━━━━━━━━━━━━━━━━━━━━━━┩\n",
       "│ mocode_input (<span style=\"color: #0087ff; text-decoration-color: #0087ff\">InputLayer</span>)     │ (<span style=\"color: #00d7ff; text-decoration-color: #00d7ff\">None</span>, <span style=\"color: #00af00; text-decoration-color: #00af00\">7</span>)                 │               <span style=\"color: #00af00; text-decoration-color: #00af00\">0</span> │ -                          │\n",
       "├───────────────────────────────┼───────────────────────────┼─────────────────┼────────────────────────────┤\n",
       "│ embedding_1 (<span style=\"color: #0087ff; text-decoration-color: #0087ff\">Embedding</span>)       │ (<span style=\"color: #00d7ff; text-decoration-color: #00d7ff\">None</span>, <span style=\"color: #00af00; text-decoration-color: #00af00\">7</span>, <span style=\"color: #00af00; text-decoration-color: #00af00\">10</span>)             │           <span style=\"color: #00af00; text-decoration-color: #00af00\">7,400</span> │ mocode_input[<span style=\"color: #00af00; text-decoration-color: #00af00\">0</span>][<span style=\"color: #00af00; text-decoration-color: #00af00\">0</span>]         │\n",
       "├───────────────────────────────┼───────────────────────────┼─────────────────┼────────────────────────────┤\n",
       "│ regular_input (<span style=\"color: #0087ff; text-decoration-color: #0087ff\">InputLayer</span>)    │ (<span style=\"color: #00d7ff; text-decoration-color: #00d7ff\">None</span>, <span style=\"color: #00af00; text-decoration-color: #00af00\">418</span>)               │               <span style=\"color: #00af00; text-decoration-color: #00af00\">0</span> │ -                          │\n",
       "├───────────────────────────────┼───────────────────────────┼─────────────────┼────────────────────────────┤\n",
       "│ flatten_1 (<span style=\"color: #0087ff; text-decoration-color: #0087ff\">Flatten</span>)           │ (<span style=\"color: #00d7ff; text-decoration-color: #00d7ff\">None</span>, <span style=\"color: #00af00; text-decoration-color: #00af00\">70</span>)                │               <span style=\"color: #00af00; text-decoration-color: #00af00\">0</span> │ embedding_1[<span style=\"color: #00af00; text-decoration-color: #00af00\">0</span>][<span style=\"color: #00af00; text-decoration-color: #00af00\">0</span>]          │\n",
       "├───────────────────────────────┼───────────────────────────┼─────────────────┼────────────────────────────┤\n",
       "│ concatenate (<span style=\"color: #0087ff; text-decoration-color: #0087ff\">Concatenate</span>)     │ (<span style=\"color: #00d7ff; text-decoration-color: #00d7ff\">None</span>, <span style=\"color: #00af00; text-decoration-color: #00af00\">488</span>)               │               <span style=\"color: #00af00; text-decoration-color: #00af00\">0</span> │ regular_input[<span style=\"color: #00af00; text-decoration-color: #00af00\">0</span>][<span style=\"color: #00af00; text-decoration-color: #00af00\">0</span>],       │\n",
       "│                               │                           │                 │ flatten_1[<span style=\"color: #00af00; text-decoration-color: #00af00\">0</span>][<span style=\"color: #00af00; text-decoration-color: #00af00\">0</span>]            │\n",
       "├───────────────────────────────┼───────────────────────────┼─────────────────┼────────────────────────────┤\n",
       "│ dense (<span style=\"color: #0087ff; text-decoration-color: #0087ff\">Dense</span>)                 │ (<span style=\"color: #00d7ff; text-decoration-color: #00d7ff\">None</span>, <span style=\"color: #00af00; text-decoration-color: #00af00\">128</span>)               │          <span style=\"color: #00af00; text-decoration-color: #00af00\">62,592</span> │ concatenate[<span style=\"color: #00af00; text-decoration-color: #00af00\">0</span>][<span style=\"color: #00af00; text-decoration-color: #00af00\">0</span>]          │\n",
       "├───────────────────────────────┼───────────────────────────┼─────────────────┼────────────────────────────┤\n",
       "│ dropout (<span style=\"color: #0087ff; text-decoration-color: #0087ff\">Dropout</span>)             │ (<span style=\"color: #00d7ff; text-decoration-color: #00d7ff\">None</span>, <span style=\"color: #00af00; text-decoration-color: #00af00\">128</span>)               │               <span style=\"color: #00af00; text-decoration-color: #00af00\">0</span> │ dense[<span style=\"color: #00af00; text-decoration-color: #00af00\">0</span>][<span style=\"color: #00af00; text-decoration-color: #00af00\">0</span>]                │\n",
       "├───────────────────────────────┼───────────────────────────┼─────────────────┼────────────────────────────┤\n",
       "│ dense_1 (<span style=\"color: #0087ff; text-decoration-color: #0087ff\">Dense</span>)               │ (<span style=\"color: #00d7ff; text-decoration-color: #00d7ff\">None</span>, <span style=\"color: #00af00; text-decoration-color: #00af00\">64</span>)                │           <span style=\"color: #00af00; text-decoration-color: #00af00\">8,256</span> │ dropout[<span style=\"color: #00af00; text-decoration-color: #00af00\">0</span>][<span style=\"color: #00af00; text-decoration-color: #00af00\">0</span>]              │\n",
       "├───────────────────────────────┼───────────────────────────┼─────────────────┼────────────────────────────┤\n",
       "│ dropout_1 (<span style=\"color: #0087ff; text-decoration-color: #0087ff\">Dropout</span>)           │ (<span style=\"color: #00d7ff; text-decoration-color: #00d7ff\">None</span>, <span style=\"color: #00af00; text-decoration-color: #00af00\">64</span>)                │               <span style=\"color: #00af00; text-decoration-color: #00af00\">0</span> │ dense_1[<span style=\"color: #00af00; text-decoration-color: #00af00\">0</span>][<span style=\"color: #00af00; text-decoration-color: #00af00\">0</span>]              │\n",
       "├───────────────────────────────┼───────────────────────────┼─────────────────┼────────────────────────────┤\n",
       "│ dense_2 (<span style=\"color: #0087ff; text-decoration-color: #0087ff\">Dense</span>)               │ (<span style=\"color: #00d7ff; text-decoration-color: #00d7ff\">None</span>, <span style=\"color: #00af00; text-decoration-color: #00af00\">3</span>)                 │             <span style=\"color: #00af00; text-decoration-color: #00af00\">195</span> │ dropout_1[<span style=\"color: #00af00; text-decoration-color: #00af00\">0</span>][<span style=\"color: #00af00; text-decoration-color: #00af00\">0</span>]            │\n",
       "└───────────────────────────────┴───────────────────────────┴─────────────────┴────────────────────────────┘\n",
       "</pre>\n"
      ],
      "text/plain": [
       "┏━━━━━━━━━━━━━━━━━━━━━━━━━━━━━━━┳━━━━━━━━━━━━━━━━━━━━━━━━━━━┳━━━━━━━━━━━━━━━━━┳━━━━━━━━━━━━━━━━━━━━━━━━━━━━┓\n",
       "┃\u001b[1m \u001b[0m\u001b[1mLayer (type)                 \u001b[0m\u001b[1m \u001b[0m┃\u001b[1m \u001b[0m\u001b[1mOutput Shape             \u001b[0m\u001b[1m \u001b[0m┃\u001b[1m \u001b[0m\u001b[1m        Param #\u001b[0m\u001b[1m \u001b[0m┃\u001b[1m \u001b[0m\u001b[1mConnected to              \u001b[0m\u001b[1m \u001b[0m┃\n",
       "┡━━━━━━━━━━━━━━━━━━━━━━━━━━━━━━━╇━━━━━━━━━━━━━━━━━━━━━━━━━━━╇━━━━━━━━━━━━━━━━━╇━━━━━━━━━━━━━━━━━━━━━━━━━━━━┩\n",
       "│ mocode_input (\u001b[38;5;33mInputLayer\u001b[0m)     │ (\u001b[38;5;45mNone\u001b[0m, \u001b[38;5;34m7\u001b[0m)                 │               \u001b[38;5;34m0\u001b[0m │ -                          │\n",
       "├───────────────────────────────┼───────────────────────────┼─────────────────┼────────────────────────────┤\n",
       "│ embedding_1 (\u001b[38;5;33mEmbedding\u001b[0m)       │ (\u001b[38;5;45mNone\u001b[0m, \u001b[38;5;34m7\u001b[0m, \u001b[38;5;34m10\u001b[0m)             │           \u001b[38;5;34m7,400\u001b[0m │ mocode_input[\u001b[38;5;34m0\u001b[0m][\u001b[38;5;34m0\u001b[0m]         │\n",
       "├───────────────────────────────┼───────────────────────────┼─────────────────┼────────────────────────────┤\n",
       "│ regular_input (\u001b[38;5;33mInputLayer\u001b[0m)    │ (\u001b[38;5;45mNone\u001b[0m, \u001b[38;5;34m418\u001b[0m)               │               \u001b[38;5;34m0\u001b[0m │ -                          │\n",
       "├───────────────────────────────┼───────────────────────────┼─────────────────┼────────────────────────────┤\n",
       "│ flatten_1 (\u001b[38;5;33mFlatten\u001b[0m)           │ (\u001b[38;5;45mNone\u001b[0m, \u001b[38;5;34m70\u001b[0m)                │               \u001b[38;5;34m0\u001b[0m │ embedding_1[\u001b[38;5;34m0\u001b[0m][\u001b[38;5;34m0\u001b[0m]          │\n",
       "├───────────────────────────────┼───────────────────────────┼─────────────────┼────────────────────────────┤\n",
       "│ concatenate (\u001b[38;5;33mConcatenate\u001b[0m)     │ (\u001b[38;5;45mNone\u001b[0m, \u001b[38;5;34m488\u001b[0m)               │               \u001b[38;5;34m0\u001b[0m │ regular_input[\u001b[38;5;34m0\u001b[0m][\u001b[38;5;34m0\u001b[0m],       │\n",
       "│                               │                           │                 │ flatten_1[\u001b[38;5;34m0\u001b[0m][\u001b[38;5;34m0\u001b[0m]            │\n",
       "├───────────────────────────────┼───────────────────────────┼─────────────────┼────────────────────────────┤\n",
       "│ dense (\u001b[38;5;33mDense\u001b[0m)                 │ (\u001b[38;5;45mNone\u001b[0m, \u001b[38;5;34m128\u001b[0m)               │          \u001b[38;5;34m62,592\u001b[0m │ concatenate[\u001b[38;5;34m0\u001b[0m][\u001b[38;5;34m0\u001b[0m]          │\n",
       "├───────────────────────────────┼───────────────────────────┼─────────────────┼────────────────────────────┤\n",
       "│ dropout (\u001b[38;5;33mDropout\u001b[0m)             │ (\u001b[38;5;45mNone\u001b[0m, \u001b[38;5;34m128\u001b[0m)               │               \u001b[38;5;34m0\u001b[0m │ dense[\u001b[38;5;34m0\u001b[0m][\u001b[38;5;34m0\u001b[0m]                │\n",
       "├───────────────────────────────┼───────────────────────────┼─────────────────┼────────────────────────────┤\n",
       "│ dense_1 (\u001b[38;5;33mDense\u001b[0m)               │ (\u001b[38;5;45mNone\u001b[0m, \u001b[38;5;34m64\u001b[0m)                │           \u001b[38;5;34m8,256\u001b[0m │ dropout[\u001b[38;5;34m0\u001b[0m][\u001b[38;5;34m0\u001b[0m]              │\n",
       "├───────────────────────────────┼───────────────────────────┼─────────────────┼────────────────────────────┤\n",
       "│ dropout_1 (\u001b[38;5;33mDropout\u001b[0m)           │ (\u001b[38;5;45mNone\u001b[0m, \u001b[38;5;34m64\u001b[0m)                │               \u001b[38;5;34m0\u001b[0m │ dense_1[\u001b[38;5;34m0\u001b[0m][\u001b[38;5;34m0\u001b[0m]              │\n",
       "├───────────────────────────────┼───────────────────────────┼─────────────────┼────────────────────────────┤\n",
       "│ dense_2 (\u001b[38;5;33mDense\u001b[0m)               │ (\u001b[38;5;45mNone\u001b[0m, \u001b[38;5;34m3\u001b[0m)                 │             \u001b[38;5;34m195\u001b[0m │ dropout_1[\u001b[38;5;34m0\u001b[0m][\u001b[38;5;34m0\u001b[0m]            │\n",
       "└───────────────────────────────┴───────────────────────────┴─────────────────┴────────────────────────────┘\n"
      ]
     },
     "metadata": {},
     "output_type": "display_data"
    },
    {
     "data": {
      "text/html": [
       "<pre style=\"white-space:pre;overflow-x:auto;line-height:normal;font-family:Menlo,'DejaVu Sans Mono',consolas,'Courier New',monospace\"><span style=\"font-weight: bold\"> Total params: </span><span style=\"color: #00af00; text-decoration-color: #00af00\">78,443</span> (306.42 KB)\n",
       "</pre>\n"
      ],
      "text/plain": [
       "\u001b[1m Total params: \u001b[0m\u001b[38;5;34m78,443\u001b[0m (306.42 KB)\n"
      ]
     },
     "metadata": {},
     "output_type": "display_data"
    },
    {
     "data": {
      "text/html": [
       "<pre style=\"white-space:pre;overflow-x:auto;line-height:normal;font-family:Menlo,'DejaVu Sans Mono',consolas,'Courier New',monospace\"><span style=\"font-weight: bold\"> Trainable params: </span><span style=\"color: #00af00; text-decoration-color: #00af00\">78,443</span> (306.42 KB)\n",
       "</pre>\n"
      ],
      "text/plain": [
       "\u001b[1m Trainable params: \u001b[0m\u001b[38;5;34m78,443\u001b[0m (306.42 KB)\n"
      ]
     },
     "metadata": {},
     "output_type": "display_data"
    },
    {
     "data": {
      "text/html": [
       "<pre style=\"white-space:pre;overflow-x:auto;line-height:normal;font-family:Menlo,'DejaVu Sans Mono',consolas,'Courier New',monospace\"><span style=\"font-weight: bold\"> Non-trainable params: </span><span style=\"color: #00af00; text-decoration-color: #00af00\">0</span> (0.00 B)\n",
       "</pre>\n"
      ],
      "text/plain": [
       "\u001b[1m Non-trainable params: \u001b[0m\u001b[38;5;34m0\u001b[0m (0.00 B)\n"
      ]
     },
     "metadata": {},
     "output_type": "display_data"
    },
    {
     "name": "stdout",
     "output_type": "stream",
     "text": [
      "Epoch 1/15\n",
      "\u001b[1m3141/3141\u001b[0m \u001b[32m━━━━━━━━━━━━━━━━━━━━\u001b[0m\u001b[37m\u001b[0m \u001b[1m20s\u001b[0m 6ms/step - accuracy: 0.2025 - loss: 4.5867 - val_accuracy: 0.7989 - val_loss: 1.0951\n",
      "Epoch 2/15\n",
      "\u001b[1m3141/3141\u001b[0m \u001b[32m━━━━━━━━━━━━━━━━━━━━\u001b[0m\u001b[37m\u001b[0m \u001b[1m16s\u001b[0m 5ms/step - accuracy: 0.2096 - loss: 1.1003 - val_accuracy: 0.1111 - val_loss: 1.0947\n",
      "Epoch 3/15\n",
      "\u001b[1m3141/3141\u001b[0m \u001b[32m━━━━━━━━━━━━━━━━━━━━\u001b[0m\u001b[37m\u001b[0m \u001b[1m19s\u001b[0m 6ms/step - accuracy: 0.2398 - loss: 1.0999 - val_accuracy: 0.7989 - val_loss: 1.0918\n",
      "Epoch 4/15\n",
      "\u001b[1m3141/3141\u001b[0m \u001b[32m━━━━━━━━━━━━━━━━━━━━\u001b[0m\u001b[37m\u001b[0m \u001b[1m18s\u001b[0m 6ms/step - accuracy: 0.5272 - loss: 1.0981 - val_accuracy: 0.0900 - val_loss: 1.1061\n",
      "Epoch 5/15\n",
      "\u001b[1m3141/3141\u001b[0m \u001b[32m━━━━━━━━━━━━━━━━━━━━\u001b[0m\u001b[37m\u001b[0m \u001b[1m20s\u001b[0m 6ms/step - accuracy: 0.3013 - loss: 1.0982 - val_accuracy: 0.7989 - val_loss: 1.0944\n",
      "Epoch 6/15\n",
      "\u001b[1m3141/3141\u001b[0m \u001b[32m━━━━━━━━━━━━━━━━━━━━\u001b[0m\u001b[37m\u001b[0m \u001b[1m18s\u001b[0m 6ms/step - accuracy: 0.3387 - loss: 1.0992 - val_accuracy: 0.0900 - val_loss: 1.0961\n",
      "Epoch 7/15\n",
      "\u001b[1m3141/3141\u001b[0m \u001b[32m━━━━━━━━━━━━━━━━━━━━\u001b[0m\u001b[37m\u001b[0m \u001b[1m17s\u001b[0m 5ms/step - accuracy: 0.2788 - loss: 1.0988 - val_accuracy: 0.1111 - val_loss: 1.1051\n",
      "Epoch 8/15\n",
      "\u001b[1m3141/3141\u001b[0m \u001b[32m━━━━━━━━━━━━━━━━━━━━\u001b[0m\u001b[37m\u001b[0m \u001b[1m17s\u001b[0m 5ms/step - accuracy: 0.2614 - loss: 1.0984 - val_accuracy: 0.1111 - val_loss: 1.0968\n",
      "Epoch 9/15\n",
      "\u001b[1m3141/3141\u001b[0m \u001b[32m━━━━━━━━━━━━━━━━━━━━\u001b[0m\u001b[37m\u001b[0m \u001b[1m21s\u001b[0m 7ms/step - accuracy: 0.3717 - loss: 1.0983 - val_accuracy: 0.0900 - val_loss: 1.0993\n",
      "Epoch 10/15\n",
      "\u001b[1m3141/3141\u001b[0m \u001b[32m━━━━━━━━━━━━━━━━━━━━\u001b[0m\u001b[37m\u001b[0m \u001b[1m16s\u001b[0m 5ms/step - accuracy: 0.3220 - loss: 1.0960 - val_accuracy: 0.0900 - val_loss: 1.1027\n",
      "Epoch 11/15\n",
      "\u001b[1m3141/3141\u001b[0m \u001b[32m━━━━━━━━━━━━━━━━━━━━\u001b[0m\u001b[37m\u001b[0m \u001b[1m18s\u001b[0m 6ms/step - accuracy: 0.1971 - loss: 1.1021 - val_accuracy: 0.0900 - val_loss: 1.0992\n",
      "Epoch 12/15\n",
      "\u001b[1m3141/3141\u001b[0m \u001b[32m━━━━━━━━━━━━━━━━━━━━\u001b[0m\u001b[37m\u001b[0m \u001b[1m21s\u001b[0m 7ms/step - accuracy: 0.2761 - loss: 1.0995 - val_accuracy: 0.1111 - val_loss: 1.1050\n",
      "Epoch 13/15\n",
      "\u001b[1m3141/3141\u001b[0m \u001b[32m━━━━━━━━━━━━━━━━━━━━\u001b[0m\u001b[37m\u001b[0m \u001b[1m17s\u001b[0m 5ms/step - accuracy: 0.2267 - loss: 1.0990 - val_accuracy: 0.1111 - val_loss: 1.0966\n",
      "Epoch 14/15\n",
      "\u001b[1m3141/3141\u001b[0m \u001b[32m━━━━━━━━━━━━━━━━━━━━\u001b[0m\u001b[37m\u001b[0m \u001b[1m16s\u001b[0m 5ms/step - accuracy: 0.2320 - loss: 1.1019 - val_accuracy: 0.1111 - val_loss: 1.0982\n",
      "Epoch 15/15\n",
      "\u001b[1m3141/3141\u001b[0m \u001b[32m━━━━━━━━━━━━━━━━━━━━\u001b[0m\u001b[37m\u001b[0m \u001b[1m21s\u001b[0m 7ms/step - accuracy: 0.2962 - loss: 1.0992 - val_accuracy: 0.7989 - val_loss: 1.0950\n"
     ]
    }
   ],
   "source": [
    "\n",
    "# 1. Input for regular features\n",
    "regular_input = Input(shape=(X_train.shape[1],), name='regular_input')\n",
    "\n",
    "# 2. Input for MO sequences\n",
    "mocode_input = Input(shape=(max_len,), name='mocode_input')\n",
    "# added 1 to cover the 0 we added in the embedding\n",
    "vocab_size = len(tokenizer.word_index) + 1\n",
    "embedding = Embedding(input_dim=vocab_size, output_dim=10, input_length=max_len)(mocode_input)\n",
    "flattened_embedding = Flatten()(embedding)\n",
    "\n",
    "# 3. Combine both inputs\n",
    "combined = Concatenate()([regular_input, flattened_embedding])\n",
    "\n",
    "# 4. Classifier head\n",
    "x = Dense(128, activation='relu')(combined)\n",
    "x = Dropout(0.3)(x)\n",
    "x = Dense(64, activation='relu')(x)\n",
    "x = Dropout(0.3)(x)\n",
    "output = Dense(3, activation='softmax')(x) # 3 output neurons for 3 classes\n",
    "\n",
    "# 5. Create and compile model\n",
    "model = Model(inputs=[regular_input, mocode_input], outputs=output)\n",
    "model.compile(optimizer=Adam(learning_rate=0.001),\n",
    "              loss='sparse_categorical_crossentropy',\n",
    "              metrics=['accuracy'])\n",
    "model.summary()\n",
    "history = model.fit(\n",
    "    [X_train, X_train_mo], y_train,          # Training data: both inputs and target\n",
    "    validation_data=([X_test, X_test_mo], y_test), # Validation data\n",
    "    epochs=15,\n",
    "    batch_size=256,\n",
    "    class_weight=class_weights_dict          # Crucial for imbalanced data\n",
    ")"
   ]
  },
  {
   "cell_type": "markdown",
   "metadata": {
    "id": "jSOIwUxfbJFJ"
   },
   "source": [
    "# Evaluation"
   ]
  },
  {
   "cell_type": "code",
   "execution_count": 50,
   "metadata": {
    "colab": {
     "base_uri": "https://localhost:8080/"
    },
    "id": "oxclNPUUvek9",
    "outputId": "8e2dcf28-7c63-460b-e80e-bd2d933947e1"
   },
   "outputs": [
    {
     "name": "stdout",
     "output_type": "stream",
     "text": [
      "                      precision    recall  f1-score   support\n",
      "\n",
      "            Unsolved       0.95      0.73      0.83    160575\n",
      "    Solved by Arrest       0.27      0.50      0.35     18088\n",
      "Solved Exceptionally       0.35      0.69      0.47     22336\n",
      "\n",
      "            accuracy                           0.71    200999\n",
      "           macro avg       0.52      0.64      0.55    200999\n",
      "        weighted avg       0.82      0.71      0.75    200999\n",
      "\n"
     ]
    }
   ],
   "source": [
    "xgb_model\n",
    "y_pred = xgb_model.predict(X_test)\n",
    "print(classification_report(y_test, y_pred,\n",
    "                           target_names=['Unsolved', 'Solved by Arrest', 'Solved Exceptionally']))"
   ]
  },
  {
   "cell_type": "code",
   "execution_count": 52,
   "metadata": {
    "colab": {
     "base_uri": "https://localhost:8080/"
    },
    "id": "9l6bdh6_vek9",
    "outputId": "b4c45003-1d05-49a1-9901-2d2eeb9d6821"
   },
   "outputs": [
    {
     "name": "stdout",
     "output_type": "stream",
     "text": [
      "                      precision    recall  f1-score   support\n",
      "\n",
      "            Unsolved       0.95      0.72      0.82    160575\n",
      "    Solved by Arrest       0.25      0.48      0.33     18088\n",
      "Solved Exceptionally       0.34      0.69      0.45     22336\n",
      "\n",
      "            accuracy                           0.69    200999\n",
      "           macro avg       0.51      0.63      0.53    200999\n",
      "        weighted avg       0.82      0.69      0.73    200999\n",
      "\n"
     ]
    }
   ],
   "source": [
    "# Evaluate\n",
    "y_pred = xgb_model_tuned.predict(X_test)\n",
    "print(classification_report(y_test, y_pred,\n",
    "                           target_names=['Unsolved', 'Solved by Arrest', 'Solved Exceptionally']))"
   ]
  },
  {
   "cell_type": "code",
   "execution_count": 54,
   "metadata": {
    "colab": {
     "base_uri": "https://localhost:8080/"
    },
    "id": "g3CJrn9dbHpI",
    "outputId": "813f1a03-6252-499c-e370-b7703e8c4792"
   },
   "outputs": [
    {
     "name": "stdout",
     "output_type": "stream",
     "text": [
      "\u001b[1m6282/6282\u001b[0m \u001b[32m━━━━━━━━━━━━━━━━━━━━\u001b[0m\u001b[37m\u001b[0m \u001b[1m13s\u001b[0m 2ms/step\n",
      "                      precision    recall  f1-score   support\n",
      "\n",
      "            Unsolved       0.80      1.00      0.89    160575\n",
      "    Solved by Arrest       0.00      0.00      0.00     18088\n",
      "Solved Exceptionally       0.00      0.00      0.00     22336\n",
      "\n",
      "            accuracy                           0.80    200999\n",
      "           macro avg       0.27      0.33      0.30    200999\n",
      "        weighted avg       0.64      0.80      0.71    200999\n",
      "\n"
     ]
    },
    {
     "name": "stderr",
     "output_type": "stream",
     "text": [
      "C:\\Users\\lenovo\\anaconda3\\Lib\\site-packages\\sklearn\\metrics\\_classification.py:1471: UndefinedMetricWarning: Precision and F-score are ill-defined and being set to 0.0 in labels with no predicted samples. Use `zero_division` parameter to control this behavior.\n",
      "  _warn_prf(average, modifier, msg_start, len(result))\n",
      "C:\\Users\\lenovo\\anaconda3\\Lib\\site-packages\\sklearn\\metrics\\_classification.py:1471: UndefinedMetricWarning: Precision and F-score are ill-defined and being set to 0.0 in labels with no predicted samples. Use `zero_division` parameter to control this behavior.\n",
      "  _warn_prf(average, modifier, msg_start, len(result))\n",
      "C:\\Users\\lenovo\\anaconda3\\Lib\\site-packages\\sklearn\\metrics\\_classification.py:1471: UndefinedMetricWarning: Precision and F-score are ill-defined and being set to 0.0 in labels with no predicted samples. Use `zero_division` parameter to control this behavior.\n",
      "  _warn_prf(average, modifier, msg_start, len(result))\n"
     ]
    }
   ],
   "source": [
    "\n",
    "# Get predictions for the test set\n",
    "y_pred_probs = model.predict([X_test, X_test_mo])\n",
    "y_pred = np.argmax(y_pred_probs, axis=1) # Convert probabilities to class labels\n",
    "\n",
    "# Generate the crucial report\n",
    "print(classification_report(y_test, y_pred, target_names=['Unsolved', 'Solved by Arrest', 'Solved Exceptionally']))"
   ]
  },
  {
   "cell_type": "markdown",
   "metadata": {
    "id": "d7465k5KXObv"
   },
   "source": [
    "After evaluating all three models, we selected the XGBoost model for deployment because it successfully predicts all three case resolution categories, unlike the neural network which completely failed on solved cases. It achieves the best balance of precision and recall, reliably identifying unsolved cases with 95% accuracy while still capturing 49-69% of solved cases. This provides a strong foundation for practical use in prioritizing investigable cases."
   ]
  },
  {
   "cell_type": "markdown",
   "metadata": {
    "id": "I2ILVNAg6Jz2"
   },
   "source": [
    "# Visualization:"
   ]
  },
  {
   "cell_type": "code",
   "execution_count": 56,
   "metadata": {
    "colab": {
     "base_uri": "https://localhost:8080/",
     "height": 693
    },
    "id": "FyTnl1_x6NBW",
    "outputId": "84323a9e-60fa-4416-9e52-c7ef3d4f97de"
   },
   "outputs": [
    {
     "data": {
      "image/png": "[encoded data removed]",
      "text/plain": [
       "<Figure size 1000x800 with 1 Axes>"
      ]
     },
     "metadata": {},
     "output_type": "display_data"
    }
   ],
   "source": [
    "# Get feature importance\n",
    "feature_importance = xgb_model.feature_importances_\n",
    "feature_names = X_train.columns\n",
    "\n",
    "# Create a DataFrame and sort\n",
    "fi_df = pd.DataFrame({'feature': feature_names, 'importance': feature_importance})\n",
    "fi_df = fi_df.sort_values('importance', ascending=False)\n",
    "\n",
    "# Plot top 20 features\n",
    "plt.figure(figsize=(10, 8))\n",
    "plt.barh(fi_df['feature'][:20], fi_df['importance'][:20])\n",
    "plt.xlabel('Importance')\n",
    "plt.title('Top 20 Most Important Features')\n",
    "plt.gca().invert_yaxis()\n",
    "plt.show()"
   ]
  },
  {
   "cell_type": "markdown",
   "metadata": {
    "id": "1c1cHvndvek-"
   },
   "source": [
    "# Save the model"
   ]
  },
  {
   "cell_type": "code",
   "execution_count": 64,
   "metadata": {
    "id": "OR0sa20jvek-"
   },
   "outputs": [],
   "source": [
    "joblib.dump(xgb_model, 'models/crime_prediction_model.pkl')\n",
    "\n",
    "model.save(\"models/neural_network_model.keras\")\n",
    "#xgb_model.save_model('/models/crime_prediction_model.json')"
   ]
  }
 ],
 "metadata": {
  "colab": {
   "provenance": []
  },
  "kernelspec": {
   "display_name": "base",
   "language": "python",
   "name": "python3"
  },
  "language_info": {
   "codemirror_mode": {
    "name": "ipython",
    "version": 3
   },
   "file_extension": ".py",
   "mimetype": "text/x-python",
   "name": "python",
   "nbconvert_exporter": "python",
   "pygments_lexer": "ipython3",
   "version": "3.12.3"
  }
 },
 "nbformat": 4,
 "nbformat_minor": 4
}
